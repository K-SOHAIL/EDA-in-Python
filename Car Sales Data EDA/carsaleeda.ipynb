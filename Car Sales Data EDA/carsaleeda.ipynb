{
 "cells": [
  {
   "cell_type": "code",
   "execution_count": 1,
   "id": "200f20d0-933e-408b-b64b-96583b720acf",
   "metadata": {},
   "outputs": [
    {
     "name": "stdout",
     "output_type": "stream",
     "text": [
      "Hello World\n"
     ]
    }
   ],
   "source": [
    "print ('Hello World')"
   ]
  },
  {
   "cell_type": "markdown",
   "id": "d0e1b61e-1421-4528-9459-dc4515ffbe7c",
   "metadata": {},
   "source": [
    "## CAR SALES EDA\n",
    "![images (1).png].(attachment:images(1).png)"
   ]
  },
  {
   "cell_type": "code",
   "execution_count": 2,
   "id": "06c2b1af-ac71-4efa-b2fc-214f2038498e",
   "metadata": {},
   "outputs": [],
   "source": [
    "import pandas as pd                              # Implements milti_dimensional array and matrics\n",
    "import numpy as np                               # For data manipultion\n",
    "import matplotlib.pyplot as plt                  # Plotting library for Python programming language.\n",
    "from pandas_profiling import ProfileReport       # Importing pandas_profiling  \n",
    "import seaborn as sns                            # Provides a high level interface for drawing attractive analysis\n",
    "%matplotlib inline\n",
    "sns.set()\n",
    "from subprocess import check_output"
   ]
  },
  {
   "cell_type": "code",
   "execution_count": 1,
   "id": "ac744c97-b06a-476e-b408-6ddcae2d1670",
   "metadata": {},
   "outputs": [
    {
     "name": "stdout",
     "output_type": "stream",
     "text": [
      "Collecting pandas_profiling\n",
      "  Downloading pandas_profiling-3.6.2-py2.py3-none-any.whl (328 kB)\n",
      "\u001b[2K     \u001b[90m━━━━━━━━━━━━━━━━━━━━━━━━━━━━━━━━━━━━━━\u001b[0m \u001b[32m328.7/328.7 kB\u001b[0m \u001b[31m25.7 MB/s\u001b[0m eta \u001b[36m0:00:00\u001b[0m\n",
      "\u001b[?25hCollecting htmlmin==0.1.12\n",
      "  Downloading htmlmin-0.1.12.tar.gz (19 kB)\n",
      "  Preparing metadata (setup.py) ... \u001b[?25ldone\n",
      "\u001b[?25hRequirement already satisfied: PyYAML<6.1,>=5.0.0 in /opt/conda/lib/python3.10/site-packages (from pandas_profiling) (6.0)\n",
      "Collecting phik<0.13,>=0.11.1\n",
      "  Downloading phik-0.12.3-cp310-cp310-manylinux_2_17_x86_64.manylinux2014_x86_64.whl (679 kB)\n",
      "\u001b[2K     \u001b[90m━━━━━━━━━━━━━━━━━━━━━━━━━━━━━━━━━━━━━━\u001b[0m \u001b[32m679.5/679.5 kB\u001b[0m \u001b[31m57.6 MB/s\u001b[0m eta \u001b[36m0:00:00\u001b[0m\n",
      "\u001b[?25hCollecting typeguard<2.14,>=2.13.2\n",
      "  Downloading typeguard-2.13.3-py3-none-any.whl (17 kB)\n",
      "Requirement already satisfied: pandas!=1.4.0,<1.6,>1.1 in /opt/conda/lib/python3.10/site-packages (from pandas_profiling) (1.5.1)\n",
      "Collecting pydantic<1.11,>=1.8.1\n",
      "  Downloading pydantic-1.10.4-cp310-cp310-manylinux_2_17_x86_64.manylinux2014_x86_64.whl (3.1 MB)\n",
      "\u001b[2K     \u001b[90m━━━━━━━━━━━━━━━━━━━━━━━━━━━━━━━━━━━━━━━━\u001b[0m \u001b[32m3.1/3.1 MB\u001b[0m \u001b[31m83.7 MB/s\u001b[0m eta \u001b[36m0:00:00\u001b[0m:00:01\u001b[0m\n",
      "\u001b[?25hRequirement already satisfied: matplotlib<3.7,>=3.2 in /opt/conda/lib/python3.10/site-packages (from pandas_profiling) (3.6.1)\n",
      "Requirement already satisfied: numpy<1.24,>=1.16.0 in /opt/conda/lib/python3.10/site-packages (from pandas_profiling) (1.23.4)\n",
      "Requirement already satisfied: requests<2.29,>=2.24.0 in /opt/conda/lib/python3.10/site-packages (from pandas_profiling) (2.28.1)\n",
      "Requirement already satisfied: jinja2<3.2,>=2.11.1 in /opt/conda/lib/python3.10/site-packages (from pandas_profiling) (3.1.2)\n",
      "Collecting visions[type_image_path]==0.7.5\n",
      "  Downloading visions-0.7.5-py3-none-any.whl (102 kB)\n",
      "\u001b[2K     \u001b[90m━━━━━━━━━━━━━━━━━━━━━━━━━━━━━━━━━━━━━━\u001b[0m \u001b[32m102.7/102.7 kB\u001b[0m \u001b[31m18.3 MB/s\u001b[0m eta \u001b[36m0:00:00\u001b[0m\n",
      "\u001b[?25hRequirement already satisfied: tqdm<4.65,>=4.48.2 in /opt/conda/lib/python3.10/site-packages (from pandas_profiling) (4.64.1)\n",
      "Collecting multimethod<1.10,>=1.4\n",
      "  Downloading multimethod-1.9.1-py3-none-any.whl (10 kB)\n",
      "Requirement already satisfied: statsmodels<0.14,>=0.13.2 in /opt/conda/lib/python3.10/site-packages (from pandas_profiling) (0.13.2)\n",
      "Requirement already satisfied: scipy<1.10,>=1.4.1 in /opt/conda/lib/python3.10/site-packages (from pandas_profiling) (1.9.3)\n",
      "Requirement already satisfied: seaborn<0.13,>=0.10.1 in /opt/conda/lib/python3.10/site-packages (from pandas_profiling) (0.12.0)\n",
      "Requirement already satisfied: attrs>=19.3.0 in /opt/conda/lib/python3.10/site-packages (from visions[type_image_path]==0.7.5->pandas_profiling) (22.1.0)\n",
      "Collecting tangled-up-in-unicode>=0.0.4\n",
      "  Downloading tangled_up_in_unicode-0.2.0-py3-none-any.whl (4.7 MB)\n",
      "\u001b[2K     \u001b[90m━━━━━━━━━━━━━━━━━━━━━━━━━━━━━━━━━━━━━━━━\u001b[0m \u001b[32m4.7/4.7 MB\u001b[0m \u001b[31m84.3 MB/s\u001b[0m eta \u001b[36m0:00:00\u001b[0mta \u001b[36m0:00:01\u001b[0m\n",
      "\u001b[?25hRequirement already satisfied: networkx>=2.4 in /opt/conda/lib/python3.10/site-packages (from visions[type_image_path]==0.7.5->pandas_profiling) (2.8.7)\n",
      "Requirement already satisfied: Pillow in /opt/conda/lib/python3.10/site-packages (from visions[type_image_path]==0.7.5->pandas_profiling) (9.2.0)\n",
      "Collecting imagehash\n",
      "  Downloading ImageHash-4.3.1-py2.py3-none-any.whl (296 kB)\n",
      "\u001b[2K     \u001b[90m━━━━━━━━━━━━━━━━━━━━━━━━━━━━━━━━━━━━━━\u001b[0m \u001b[32m296.5/296.5 kB\u001b[0m \u001b[31m42.9 MB/s\u001b[0m eta \u001b[36m0:00:00\u001b[0m\n",
      "\u001b[?25hRequirement already satisfied: MarkupSafe>=2.0 in /opt/conda/lib/python3.10/site-packages (from jinja2<3.2,>=2.11.1->pandas_profiling) (2.1.1)\n",
      "Requirement already satisfied: packaging>=20.0 in /opt/conda/lib/python3.10/site-packages (from matplotlib<3.7,>=3.2->pandas_profiling) (21.3)\n",
      "Requirement already satisfied: pyparsing>=2.2.1 in /opt/conda/lib/python3.10/site-packages (from matplotlib<3.7,>=3.2->pandas_profiling) (3.0.9)\n",
      "Requirement already satisfied: kiwisolver>=1.0.1 in /opt/conda/lib/python3.10/site-packages (from matplotlib<3.7,>=3.2->pandas_profiling) (1.4.4)\n",
      "Requirement already satisfied: python-dateutil>=2.7 in /opt/conda/lib/python3.10/site-packages (from matplotlib<3.7,>=3.2->pandas_profiling) (2.8.2)\n",
      "Requirement already satisfied: fonttools>=4.22.0 in /opt/conda/lib/python3.10/site-packages (from matplotlib<3.7,>=3.2->pandas_profiling) (4.38.0)\n",
      "Requirement already satisfied: contourpy>=1.0.1 in /opt/conda/lib/python3.10/site-packages (from matplotlib<3.7,>=3.2->pandas_profiling) (1.0.5)\n",
      "Requirement already satisfied: cycler>=0.10 in /opt/conda/lib/python3.10/site-packages (from matplotlib<3.7,>=3.2->pandas_profiling) (0.11.0)\n",
      "Requirement already satisfied: pytz>=2020.1 in /opt/conda/lib/python3.10/site-packages (from pandas!=1.4.0,<1.6,>1.1->pandas_profiling) (2022.5)\n",
      "Requirement already satisfied: joblib>=0.14.1 in /opt/conda/lib/python3.10/site-packages (from phik<0.13,>=0.11.1->pandas_profiling) (1.2.0)\n",
      "Requirement already satisfied: typing-extensions>=4.2.0 in /opt/conda/lib/python3.10/site-packages (from pydantic<1.11,>=1.8.1->pandas_profiling) (4.4.0)\n",
      "Requirement already satisfied: urllib3<1.27,>=1.21.1 in /opt/conda/lib/python3.10/site-packages (from requests<2.29,>=2.24.0->pandas_profiling) (1.26.11)\n",
      "Requirement already satisfied: idna<4,>=2.5 in /opt/conda/lib/python3.10/site-packages (from requests<2.29,>=2.24.0->pandas_profiling) (3.4)\n",
      "Requirement already satisfied: charset-normalizer<3,>=2 in /opt/conda/lib/python3.10/site-packages (from requests<2.29,>=2.24.0->pandas_profiling) (2.1.1)\n",
      "Requirement already satisfied: certifi>=2017.4.17 in /opt/conda/lib/python3.10/site-packages (from requests<2.29,>=2.24.0->pandas_profiling) (2022.9.24)\n",
      "Requirement already satisfied: patsy>=0.5.2 in /opt/conda/lib/python3.10/site-packages (from statsmodels<0.14,>=0.13.2->pandas_profiling) (0.5.3)\n",
      "Requirement already satisfied: six in /opt/conda/lib/python3.10/site-packages (from patsy>=0.5.2->statsmodels<0.14,>=0.13.2->pandas_profiling) (1.16.0)\n",
      "Requirement already satisfied: PyWavelets in /opt/conda/lib/python3.10/site-packages (from imagehash->visions[type_image_path]==0.7.5->pandas_profiling) (1.3.0)\n",
      "Building wheels for collected packages: htmlmin\n",
      "  Building wheel for htmlmin (setup.py) ... \u001b[?25ldone\n",
      "\u001b[?25h  Created wheel for htmlmin: filename=htmlmin-0.1.12-py3-none-any.whl size=27082 sha256=76d7baf171ec0204fafbaddd83d27e80ac59b5bccaea8585d230f36c9f42c85c\n",
      "  Stored in directory: /home/jovyan/.cache/pip/wheels/ea/1c/a8/5cec3479cd45136a7111e2d96aac299b219b199c411665250b\n",
      "Successfully built htmlmin\n",
      "Installing collected packages: htmlmin, typeguard, tangled-up-in-unicode, pydantic, multimethod, imagehash, visions, phik, pandas_profiling\n",
      "Successfully installed htmlmin-0.1.12 imagehash-4.3.1 multimethod-1.9.1 pandas_profiling-3.6.2 phik-0.12.3 pydantic-1.10.4 tangled-up-in-unicode-0.2.0 typeguard-2.13.3 visions-0.7.5\n",
      "Note: you may need to restart the kernel to use updated packages.\n"
     ]
    }
   ],
   "source": [
    "pip install pandas_profiling    ##Installing pandas_profiling packages"
   ]
  },
  {
   "cell_type": "code",
   "execution_count": 3,
   "id": "0afab855-9fd7-4344-ae7b-57d592b5e964",
   "metadata": {},
   "outputs": [],
   "source": [
    "# Loading dataset\n",
    "carsales_data = pd.read_excel(r\"Car_Sales.xlsx\")\n"
   ]
  },
  {
   "cell_type": "code",
   "execution_count": 4,
   "id": "6f55227b-b722-4811-99c8-aa81f3f680f0",
   "metadata": {},
   "outputs": [
    {
     "data": {
      "text/html": [
       "<div>\n",
       "<style scoped>\n",
       "    .dataframe tbody tr th:only-of-type {\n",
       "        vertical-align: middle;\n",
       "    }\n",
       "\n",
       "    .dataframe tbody tr th {\n",
       "        vertical-align: top;\n",
       "    }\n",
       "\n",
       "    .dataframe thead th {\n",
       "        text-align: right;\n",
       "    }\n",
       "</style>\n",
       "<table border=\"1\" class=\"dataframe\">\n",
       "  <thead>\n",
       "    <tr style=\"text-align: right;\">\n",
       "      <th></th>\n",
       "      <th>car</th>\n",
       "      <th>price</th>\n",
       "      <th>body</th>\n",
       "      <th>mileage</th>\n",
       "      <th>engV</th>\n",
       "      <th>engType</th>\n",
       "      <th>registration</th>\n",
       "      <th>year</th>\n",
       "      <th>model</th>\n",
       "      <th>drive</th>\n",
       "    </tr>\n",
       "  </thead>\n",
       "  <tbody>\n",
       "    <tr>\n",
       "      <th>0</th>\n",
       "      <td>Ford</td>\n",
       "      <td>15500.0</td>\n",
       "      <td>crossover</td>\n",
       "      <td>68</td>\n",
       "      <td>2.5</td>\n",
       "      <td>Gas</td>\n",
       "      <td>yes</td>\n",
       "      <td>2010</td>\n",
       "      <td>Kuga</td>\n",
       "      <td>full</td>\n",
       "    </tr>\n",
       "    <tr>\n",
       "      <th>1</th>\n",
       "      <td>Mercedes-Benz</td>\n",
       "      <td>20500.0</td>\n",
       "      <td>sedan</td>\n",
       "      <td>173</td>\n",
       "      <td>1.8</td>\n",
       "      <td>Gas</td>\n",
       "      <td>yes</td>\n",
       "      <td>2011</td>\n",
       "      <td>E-Class</td>\n",
       "      <td>rear</td>\n",
       "    </tr>\n",
       "    <tr>\n",
       "      <th>2</th>\n",
       "      <td>Mercedes-Benz</td>\n",
       "      <td>35000.0</td>\n",
       "      <td>other</td>\n",
       "      <td>135</td>\n",
       "      <td>5.5</td>\n",
       "      <td>Petrol</td>\n",
       "      <td>yes</td>\n",
       "      <td>2008</td>\n",
       "      <td>CL 550</td>\n",
       "      <td>rear</td>\n",
       "    </tr>\n",
       "    <tr>\n",
       "      <th>3</th>\n",
       "      <td>Mercedes-Benz</td>\n",
       "      <td>17800.0</td>\n",
       "      <td>van</td>\n",
       "      <td>162</td>\n",
       "      <td>1.8</td>\n",
       "      <td>Diesel</td>\n",
       "      <td>yes</td>\n",
       "      <td>2012</td>\n",
       "      <td>B 180</td>\n",
       "      <td>front</td>\n",
       "    </tr>\n",
       "    <tr>\n",
       "      <th>4</th>\n",
       "      <td>Mercedes-Benz</td>\n",
       "      <td>33000.0</td>\n",
       "      <td>vagon</td>\n",
       "      <td>91</td>\n",
       "      <td>NaN</td>\n",
       "      <td>Other</td>\n",
       "      <td>yes</td>\n",
       "      <td>2013</td>\n",
       "      <td>E-Class</td>\n",
       "      <td>NaN</td>\n",
       "    </tr>\n",
       "  </tbody>\n",
       "</table>\n",
       "</div>"
      ],
      "text/plain": [
       "             car    price       body  mileage  engV engType registration  \\\n",
       "0           Ford  15500.0  crossover       68   2.5     Gas          yes   \n",
       "1  Mercedes-Benz  20500.0      sedan      173   1.8     Gas          yes   \n",
       "2  Mercedes-Benz  35000.0      other      135   5.5  Petrol          yes   \n",
       "3  Mercedes-Benz  17800.0        van      162   1.8  Diesel          yes   \n",
       "4  Mercedes-Benz  33000.0      vagon       91   NaN   Other          yes   \n",
       "\n",
       "   year    model  drive  \n",
       "0  2010     Kuga   full  \n",
       "1  2011  E-Class   rear  \n",
       "2  2008   CL 550   rear  \n",
       "3  2012    B 180  front  \n",
       "4  2013  E-Class    NaN  "
      ]
     },
     "execution_count": 4,
     "metadata": {},
     "output_type": "execute_result"
    }
   ],
   "source": [
    "# Viewing start 5 rows from dataset\n",
    "carsales_data.head()"
   ]
  },
  {
   "cell_type": "code",
   "execution_count": 5,
   "id": "b9aa6488-a627-40d1-9103-b94a2c68b7d8",
   "metadata": {},
   "outputs": [
    {
     "data": {
      "text/html": [
       "<div>\n",
       "<style scoped>\n",
       "    .dataframe tbody tr th:only-of-type {\n",
       "        vertical-align: middle;\n",
       "    }\n",
       "\n",
       "    .dataframe tbody tr th {\n",
       "        vertical-align: top;\n",
       "    }\n",
       "\n",
       "    .dataframe thead th {\n",
       "        text-align: right;\n",
       "    }\n",
       "</style>\n",
       "<table border=\"1\" class=\"dataframe\">\n",
       "  <thead>\n",
       "    <tr style=\"text-align: right;\">\n",
       "      <th></th>\n",
       "      <th>car</th>\n",
       "      <th>price</th>\n",
       "      <th>body</th>\n",
       "      <th>mileage</th>\n",
       "      <th>engV</th>\n",
       "      <th>engType</th>\n",
       "      <th>registration</th>\n",
       "      <th>year</th>\n",
       "      <th>model</th>\n",
       "      <th>drive</th>\n",
       "    </tr>\n",
       "  </thead>\n",
       "  <tbody>\n",
       "    <tr>\n",
       "      <th>9571</th>\n",
       "      <td>Hyundai</td>\n",
       "      <td>14500.0</td>\n",
       "      <td>crossover</td>\n",
       "      <td>140</td>\n",
       "      <td>2.0</td>\n",
       "      <td>Gas</td>\n",
       "      <td>yes</td>\n",
       "      <td>2011</td>\n",
       "      <td>Tucson</td>\n",
       "      <td>front</td>\n",
       "    </tr>\n",
       "    <tr>\n",
       "      <th>9572</th>\n",
       "      <td>Volkswagen</td>\n",
       "      <td>2200.0</td>\n",
       "      <td>vagon</td>\n",
       "      <td>150</td>\n",
       "      <td>1.6</td>\n",
       "      <td>Petrol</td>\n",
       "      <td>yes</td>\n",
       "      <td>1986</td>\n",
       "      <td>Passat B2</td>\n",
       "      <td>front</td>\n",
       "    </tr>\n",
       "    <tr>\n",
       "      <th>9573</th>\n",
       "      <td>Mercedes-Benz</td>\n",
       "      <td>18500.0</td>\n",
       "      <td>crossover</td>\n",
       "      <td>180</td>\n",
       "      <td>3.5</td>\n",
       "      <td>Petrol</td>\n",
       "      <td>yes</td>\n",
       "      <td>2008</td>\n",
       "      <td>ML 350</td>\n",
       "      <td>full</td>\n",
       "    </tr>\n",
       "    <tr>\n",
       "      <th>9574</th>\n",
       "      <td>Lexus</td>\n",
       "      <td>16999.0</td>\n",
       "      <td>sedan</td>\n",
       "      <td>150</td>\n",
       "      <td>3.5</td>\n",
       "      <td>Gas</td>\n",
       "      <td>yes</td>\n",
       "      <td>2008</td>\n",
       "      <td>ES 350</td>\n",
       "      <td>front</td>\n",
       "    </tr>\n",
       "    <tr>\n",
       "      <th>9575</th>\n",
       "      <td>Audi</td>\n",
       "      <td>22500.0</td>\n",
       "      <td>other</td>\n",
       "      <td>71</td>\n",
       "      <td>3.6</td>\n",
       "      <td>Petrol</td>\n",
       "      <td>yes</td>\n",
       "      <td>2007</td>\n",
       "      <td>Q7</td>\n",
       "      <td>full</td>\n",
       "    </tr>\n",
       "  </tbody>\n",
       "</table>\n",
       "</div>"
      ],
      "text/plain": [
       "                car    price       body  mileage  engV engType registration  \\\n",
       "9571        Hyundai  14500.0  crossover      140   2.0     Gas          yes   \n",
       "9572     Volkswagen   2200.0      vagon      150   1.6  Petrol          yes   \n",
       "9573  Mercedes-Benz  18500.0  crossover      180   3.5  Petrol          yes   \n",
       "9574          Lexus  16999.0      sedan      150   3.5     Gas          yes   \n",
       "9575           Audi  22500.0      other       71   3.6  Petrol          yes   \n",
       "\n",
       "      year      model  drive  \n",
       "9571  2011     Tucson  front  \n",
       "9572  1986  Passat B2  front  \n",
       "9573  2008     ML 350   full  \n",
       "9574  2008     ES 350  front  \n",
       "9575  2007         Q7   full  "
      ]
     },
     "execution_count": 5,
     "metadata": {},
     "output_type": "execute_result"
    }
   ],
   "source": [
    "# Viewing last 5 rows from dataset\n",
    "carsales_data.tail()"
   ]
  },
  {
   "cell_type": "code",
   "execution_count": 6,
   "id": "8a79b9f2-5c6f-4576-ace6-dc7f7929850f",
   "metadata": {},
   "outputs": [
    {
     "data": {
      "text/plain": [
       "(9576, 10)"
      ]
     },
     "execution_count": 6,
     "metadata": {},
     "output_type": "execute_result"
    }
   ],
   "source": [
    "## Viewing Shape of dataset \n",
    "carsales_data.shape"
   ]
  },
  {
   "cell_type": "markdown",
   "id": "42cb0a50-c122-4058-abb7-223126aec867",
   "metadata": {},
   "source": [
    "CarSales_Data has 9576 rows and 10 Columns."
   ]
  },
  {
   "cell_type": "code",
   "execution_count": 7,
   "id": "2ab9c2d8-9d61-4d7d-8cab-bc278ea6021a",
   "metadata": {},
   "outputs": [
    {
     "data": {
      "text/plain": [
       "Index(['car', 'price', 'body', 'mileage', 'engV', 'engType', 'registration',\n",
       "       'year', 'model', 'drive'],\n",
       "      dtype='object')"
      ]
     },
     "execution_count": 7,
     "metadata": {},
     "output_type": "execute_result"
    }
   ],
   "source": [
    "# Viewing columns name from dataset\n",
    "carsales_data.columns"
   ]
  },
  {
   "cell_type": "code",
   "execution_count": 8,
   "id": "56c0ef37-eca2-4d2b-a68a-6f32acd3474a",
   "metadata": {},
   "outputs": [
    {
     "data": {
      "text/html": [
       "<div>\n",
       "<style scoped>\n",
       "    .dataframe tbody tr th:only-of-type {\n",
       "        vertical-align: middle;\n",
       "    }\n",
       "\n",
       "    .dataframe tbody tr th {\n",
       "        vertical-align: top;\n",
       "    }\n",
       "\n",
       "    .dataframe thead th {\n",
       "        text-align: right;\n",
       "    }\n",
       "</style>\n",
       "<table border=\"1\" class=\"dataframe\">\n",
       "  <thead>\n",
       "    <tr style=\"text-align: right;\">\n",
       "      <th></th>\n",
       "      <th>price</th>\n",
       "      <th>mileage</th>\n",
       "      <th>engV</th>\n",
       "      <th>year</th>\n",
       "    </tr>\n",
       "  </thead>\n",
       "  <tbody>\n",
       "    <tr>\n",
       "      <th>count</th>\n",
       "      <td>9576.000000</td>\n",
       "      <td>9576.000000</td>\n",
       "      <td>9142.000000</td>\n",
       "      <td>9576.000000</td>\n",
       "    </tr>\n",
       "    <tr>\n",
       "      <th>mean</th>\n",
       "      <td>15633.317316</td>\n",
       "      <td>138.862364</td>\n",
       "      <td>2.646344</td>\n",
       "      <td>2006.605994</td>\n",
       "    </tr>\n",
       "    <tr>\n",
       "      <th>std</th>\n",
       "      <td>24106.523436</td>\n",
       "      <td>98.629754</td>\n",
       "      <td>5.927699</td>\n",
       "      <td>7.067924</td>\n",
       "    </tr>\n",
       "    <tr>\n",
       "      <th>min</th>\n",
       "      <td>0.000000</td>\n",
       "      <td>0.000000</td>\n",
       "      <td>0.100000</td>\n",
       "      <td>1953.000000</td>\n",
       "    </tr>\n",
       "    <tr>\n",
       "      <th>25%</th>\n",
       "      <td>4999.000000</td>\n",
       "      <td>70.000000</td>\n",
       "      <td>1.600000</td>\n",
       "      <td>2004.000000</td>\n",
       "    </tr>\n",
       "    <tr>\n",
       "      <th>50%</th>\n",
       "      <td>9200.000000</td>\n",
       "      <td>128.000000</td>\n",
       "      <td>2.000000</td>\n",
       "      <td>2008.000000</td>\n",
       "    </tr>\n",
       "    <tr>\n",
       "      <th>75%</th>\n",
       "      <td>16700.000000</td>\n",
       "      <td>194.000000</td>\n",
       "      <td>2.500000</td>\n",
       "      <td>2012.000000</td>\n",
       "    </tr>\n",
       "    <tr>\n",
       "      <th>max</th>\n",
       "      <td>547800.000000</td>\n",
       "      <td>999.000000</td>\n",
       "      <td>99.990000</td>\n",
       "      <td>2016.000000</td>\n",
       "    </tr>\n",
       "  </tbody>\n",
       "</table>\n",
       "</div>"
      ],
      "text/plain": [
       "               price      mileage         engV         year\n",
       "count    9576.000000  9576.000000  9142.000000  9576.000000\n",
       "mean    15633.317316   138.862364     2.646344  2006.605994\n",
       "std     24106.523436    98.629754     5.927699     7.067924\n",
       "min         0.000000     0.000000     0.100000  1953.000000\n",
       "25%      4999.000000    70.000000     1.600000  2004.000000\n",
       "50%      9200.000000   128.000000     2.000000  2008.000000\n",
       "75%     16700.000000   194.000000     2.500000  2012.000000\n",
       "max    547800.000000   999.000000    99.990000  2016.000000"
      ]
     },
     "execution_count": 8,
     "metadata": {},
     "output_type": "execute_result"
    }
   ],
   "source": [
    "# Viewing Statical Values from Dataset \n",
    "carsales_data.describe()"
   ]
  },
  {
   "cell_type": "code",
   "execution_count": 9,
   "id": "5cd33178-02f3-4e49-8d57-8dbddb372748",
   "metadata": {},
   "outputs": [
    {
     "data": {
      "text/html": [
       "<div>\n",
       "<style scoped>\n",
       "    .dataframe tbody tr th:only-of-type {\n",
       "        vertical-align: middle;\n",
       "    }\n",
       "\n",
       "    .dataframe tbody tr th {\n",
       "        vertical-align: top;\n",
       "    }\n",
       "\n",
       "    .dataframe thead th {\n",
       "        text-align: right;\n",
       "    }\n",
       "</style>\n",
       "<table border=\"1\" class=\"dataframe\">\n",
       "  <thead>\n",
       "    <tr style=\"text-align: right;\">\n",
       "      <th></th>\n",
       "      <th>car</th>\n",
       "      <th>price</th>\n",
       "      <th>body</th>\n",
       "      <th>mileage</th>\n",
       "      <th>engV</th>\n",
       "      <th>engType</th>\n",
       "      <th>registration</th>\n",
       "      <th>year</th>\n",
       "      <th>model</th>\n",
       "      <th>drive</th>\n",
       "    </tr>\n",
       "  </thead>\n",
       "  <tbody>\n",
       "    <tr>\n",
       "      <th>count</th>\n",
       "      <td>9576</td>\n",
       "      <td>9576.000000</td>\n",
       "      <td>9576</td>\n",
       "      <td>9576.000000</td>\n",
       "      <td>9142.000000</td>\n",
       "      <td>9576</td>\n",
       "      <td>9576</td>\n",
       "      <td>9576.000000</td>\n",
       "      <td>9576</td>\n",
       "      <td>9065</td>\n",
       "    </tr>\n",
       "    <tr>\n",
       "      <th>unique</th>\n",
       "      <td>87</td>\n",
       "      <td>NaN</td>\n",
       "      <td>6</td>\n",
       "      <td>NaN</td>\n",
       "      <td>NaN</td>\n",
       "      <td>4</td>\n",
       "      <td>2</td>\n",
       "      <td>NaN</td>\n",
       "      <td>863</td>\n",
       "      <td>3</td>\n",
       "    </tr>\n",
       "    <tr>\n",
       "      <th>top</th>\n",
       "      <td>Volkswagen</td>\n",
       "      <td>NaN</td>\n",
       "      <td>sedan</td>\n",
       "      <td>NaN</td>\n",
       "      <td>NaN</td>\n",
       "      <td>Petrol</td>\n",
       "      <td>yes</td>\n",
       "      <td>NaN</td>\n",
       "      <td>E-Class</td>\n",
       "      <td>front</td>\n",
       "    </tr>\n",
       "    <tr>\n",
       "      <th>freq</th>\n",
       "      <td>936</td>\n",
       "      <td>NaN</td>\n",
       "      <td>3646</td>\n",
       "      <td>NaN</td>\n",
       "      <td>NaN</td>\n",
       "      <td>4379</td>\n",
       "      <td>9015</td>\n",
       "      <td>NaN</td>\n",
       "      <td>199</td>\n",
       "      <td>5188</td>\n",
       "    </tr>\n",
       "    <tr>\n",
       "      <th>mean</th>\n",
       "      <td>NaN</td>\n",
       "      <td>15633.317316</td>\n",
       "      <td>NaN</td>\n",
       "      <td>138.862364</td>\n",
       "      <td>2.646344</td>\n",
       "      <td>NaN</td>\n",
       "      <td>NaN</td>\n",
       "      <td>2006.605994</td>\n",
       "      <td>NaN</td>\n",
       "      <td>NaN</td>\n",
       "    </tr>\n",
       "    <tr>\n",
       "      <th>std</th>\n",
       "      <td>NaN</td>\n",
       "      <td>24106.523436</td>\n",
       "      <td>NaN</td>\n",
       "      <td>98.629754</td>\n",
       "      <td>5.927699</td>\n",
       "      <td>NaN</td>\n",
       "      <td>NaN</td>\n",
       "      <td>7.067924</td>\n",
       "      <td>NaN</td>\n",
       "      <td>NaN</td>\n",
       "    </tr>\n",
       "    <tr>\n",
       "      <th>min</th>\n",
       "      <td>NaN</td>\n",
       "      <td>0.000000</td>\n",
       "      <td>NaN</td>\n",
       "      <td>0.000000</td>\n",
       "      <td>0.100000</td>\n",
       "      <td>NaN</td>\n",
       "      <td>NaN</td>\n",
       "      <td>1953.000000</td>\n",
       "      <td>NaN</td>\n",
       "      <td>NaN</td>\n",
       "    </tr>\n",
       "    <tr>\n",
       "      <th>25%</th>\n",
       "      <td>NaN</td>\n",
       "      <td>4999.000000</td>\n",
       "      <td>NaN</td>\n",
       "      <td>70.000000</td>\n",
       "      <td>1.600000</td>\n",
       "      <td>NaN</td>\n",
       "      <td>NaN</td>\n",
       "      <td>2004.000000</td>\n",
       "      <td>NaN</td>\n",
       "      <td>NaN</td>\n",
       "    </tr>\n",
       "    <tr>\n",
       "      <th>50%</th>\n",
       "      <td>NaN</td>\n",
       "      <td>9200.000000</td>\n",
       "      <td>NaN</td>\n",
       "      <td>128.000000</td>\n",
       "      <td>2.000000</td>\n",
       "      <td>NaN</td>\n",
       "      <td>NaN</td>\n",
       "      <td>2008.000000</td>\n",
       "      <td>NaN</td>\n",
       "      <td>NaN</td>\n",
       "    </tr>\n",
       "    <tr>\n",
       "      <th>75%</th>\n",
       "      <td>NaN</td>\n",
       "      <td>16700.000000</td>\n",
       "      <td>NaN</td>\n",
       "      <td>194.000000</td>\n",
       "      <td>2.500000</td>\n",
       "      <td>NaN</td>\n",
       "      <td>NaN</td>\n",
       "      <td>2012.000000</td>\n",
       "      <td>NaN</td>\n",
       "      <td>NaN</td>\n",
       "    </tr>\n",
       "    <tr>\n",
       "      <th>max</th>\n",
       "      <td>NaN</td>\n",
       "      <td>547800.000000</td>\n",
       "      <td>NaN</td>\n",
       "      <td>999.000000</td>\n",
       "      <td>99.990000</td>\n",
       "      <td>NaN</td>\n",
       "      <td>NaN</td>\n",
       "      <td>2016.000000</td>\n",
       "      <td>NaN</td>\n",
       "      <td>NaN</td>\n",
       "    </tr>\n",
       "  </tbody>\n",
       "</table>\n",
       "</div>"
      ],
      "text/plain": [
       "               car          price   body      mileage         engV engType  \\\n",
       "count         9576    9576.000000   9576  9576.000000  9142.000000    9576   \n",
       "unique          87            NaN      6          NaN          NaN       4   \n",
       "top     Volkswagen            NaN  sedan          NaN          NaN  Petrol   \n",
       "freq           936            NaN   3646          NaN          NaN    4379   \n",
       "mean           NaN   15633.317316    NaN   138.862364     2.646344     NaN   \n",
       "std            NaN   24106.523436    NaN    98.629754     5.927699     NaN   \n",
       "min            NaN       0.000000    NaN     0.000000     0.100000     NaN   \n",
       "25%            NaN    4999.000000    NaN    70.000000     1.600000     NaN   \n",
       "50%            NaN    9200.000000    NaN   128.000000     2.000000     NaN   \n",
       "75%            NaN   16700.000000    NaN   194.000000     2.500000     NaN   \n",
       "max            NaN  547800.000000    NaN   999.000000    99.990000     NaN   \n",
       "\n",
       "       registration         year    model  drive  \n",
       "count          9576  9576.000000     9576   9065  \n",
       "unique            2          NaN      863      3  \n",
       "top             yes          NaN  E-Class  front  \n",
       "freq           9015          NaN      199   5188  \n",
       "mean            NaN  2006.605994      NaN    NaN  \n",
       "std             NaN     7.067924      NaN    NaN  \n",
       "min             NaN  1953.000000      NaN    NaN  \n",
       "25%             NaN  2004.000000      NaN    NaN  \n",
       "50%             NaN  2008.000000      NaN    NaN  \n",
       "75%             NaN  2012.000000      NaN    NaN  \n",
       "max             NaN  2016.000000      NaN    NaN  "
      ]
     },
     "execution_count": 9,
     "metadata": {},
     "output_type": "execute_result"
    }
   ],
   "source": [
    "# Viewing All Values from Dataset \n",
    "carsales_data.describe(include=\"all\")"
   ]
  },
  {
   "cell_type": "code",
   "execution_count": 10,
   "id": "061ce299-d186-44b6-a637-f9ea0836e57c",
   "metadata": {},
   "outputs": [
    {
     "data": {
      "text/html": [
       "<div>\n",
       "<style scoped>\n",
       "    .dataframe tbody tr th:only-of-type {\n",
       "        vertical-align: middle;\n",
       "    }\n",
       "\n",
       "    .dataframe tbody tr th {\n",
       "        vertical-align: top;\n",
       "    }\n",
       "\n",
       "    .dataframe thead th {\n",
       "        text-align: right;\n",
       "    }\n",
       "</style>\n",
       "<table border=\"1\" class=\"dataframe\">\n",
       "  <thead>\n",
       "    <tr style=\"text-align: right;\">\n",
       "      <th></th>\n",
       "      <th>car</th>\n",
       "      <th>price</th>\n",
       "      <th>body</th>\n",
       "      <th>mileage</th>\n",
       "      <th>engV</th>\n",
       "      <th>engType</th>\n",
       "      <th>registration</th>\n",
       "      <th>year</th>\n",
       "      <th>model</th>\n",
       "      <th>drive</th>\n",
       "    </tr>\n",
       "  </thead>\n",
       "  <tbody>\n",
       "    <tr>\n",
       "      <th>7621</th>\n",
       "      <td>Bentley</td>\n",
       "      <td>547800.0</td>\n",
       "      <td>sedan</td>\n",
       "      <td>0</td>\n",
       "      <td>6.75</td>\n",
       "      <td>Petrol</td>\n",
       "      <td>yes</td>\n",
       "      <td>2016</td>\n",
       "      <td>Mulsanne</td>\n",
       "      <td>rear</td>\n",
       "    </tr>\n",
       "    <tr>\n",
       "      <th>7914</th>\n",
       "      <td>Bentley</td>\n",
       "      <td>499999.0</td>\n",
       "      <td>crossover</td>\n",
       "      <td>0</td>\n",
       "      <td>6.00</td>\n",
       "      <td>Petrol</td>\n",
       "      <td>yes</td>\n",
       "      <td>2016</td>\n",
       "      <td>Bentayga</td>\n",
       "      <td>full</td>\n",
       "    </tr>\n",
       "    <tr>\n",
       "      <th>1611</th>\n",
       "      <td>Bentley</td>\n",
       "      <td>499999.0</td>\n",
       "      <td>crossover</td>\n",
       "      <td>0</td>\n",
       "      <td>6.00</td>\n",
       "      <td>Petrol</td>\n",
       "      <td>yes</td>\n",
       "      <td>2016</td>\n",
       "      <td>Bentayga</td>\n",
       "      <td>full</td>\n",
       "    </tr>\n",
       "    <tr>\n",
       "      <th>4134</th>\n",
       "      <td>Bentley</td>\n",
       "      <td>449999.0</td>\n",
       "      <td>crossover</td>\n",
       "      <td>0</td>\n",
       "      <td>6.00</td>\n",
       "      <td>Petrol</td>\n",
       "      <td>yes</td>\n",
       "      <td>2016</td>\n",
       "      <td>Bentayga</td>\n",
       "      <td>full</td>\n",
       "    </tr>\n",
       "    <tr>\n",
       "      <th>4325</th>\n",
       "      <td>Mercedes-Benz</td>\n",
       "      <td>300000.0</td>\n",
       "      <td>sedan</td>\n",
       "      <td>68</td>\n",
       "      <td>6.00</td>\n",
       "      <td>Petrol</td>\n",
       "      <td>yes</td>\n",
       "      <td>2011</td>\n",
       "      <td>S 600</td>\n",
       "      <td>NaN</td>\n",
       "    </tr>\n",
       "    <tr>\n",
       "      <th>...</th>\n",
       "      <td>...</td>\n",
       "      <td>...</td>\n",
       "      <td>...</td>\n",
       "      <td>...</td>\n",
       "      <td>...</td>\n",
       "      <td>...</td>\n",
       "      <td>...</td>\n",
       "      <td>...</td>\n",
       "      <td>...</td>\n",
       "      <td>...</td>\n",
       "    </tr>\n",
       "    <tr>\n",
       "      <th>70</th>\n",
       "      <td>Mercedes-Benz</td>\n",
       "      <td>0.0</td>\n",
       "      <td>crossover</td>\n",
       "      <td>0</td>\n",
       "      <td>3.00</td>\n",
       "      <td>Diesel</td>\n",
       "      <td>yes</td>\n",
       "      <td>2016</td>\n",
       "      <td>GLE-Class</td>\n",
       "      <td>full</td>\n",
       "    </tr>\n",
       "    <tr>\n",
       "      <th>158</th>\n",
       "      <td>Land Rover</td>\n",
       "      <td>0.0</td>\n",
       "      <td>crossover</td>\n",
       "      <td>45</td>\n",
       "      <td>3.00</td>\n",
       "      <td>Petrol</td>\n",
       "      <td>yes</td>\n",
       "      <td>2014</td>\n",
       "      <td>Range Rover Sport</td>\n",
       "      <td>full</td>\n",
       "    </tr>\n",
       "    <tr>\n",
       "      <th>4786</th>\n",
       "      <td>Mercedes-Benz</td>\n",
       "      <td>0.0</td>\n",
       "      <td>crossover</td>\n",
       "      <td>27</td>\n",
       "      <td>3.00</td>\n",
       "      <td>Diesel</td>\n",
       "      <td>yes</td>\n",
       "      <td>2015</td>\n",
       "      <td>G 350</td>\n",
       "      <td>full</td>\n",
       "    </tr>\n",
       "    <tr>\n",
       "      <th>4784</th>\n",
       "      <td>Rolls-Royce</td>\n",
       "      <td>0.0</td>\n",
       "      <td>sedan</td>\n",
       "      <td>22</td>\n",
       "      <td>6.75</td>\n",
       "      <td>Other</td>\n",
       "      <td>yes</td>\n",
       "      <td>2008</td>\n",
       "      <td>Phantom</td>\n",
       "      <td>rear</td>\n",
       "    </tr>\n",
       "    <tr>\n",
       "      <th>215</th>\n",
       "      <td>Mercedes-Benz</td>\n",
       "      <td>0.0</td>\n",
       "      <td>sedan</td>\n",
       "      <td>62</td>\n",
       "      <td>3.00</td>\n",
       "      <td>Diesel</td>\n",
       "      <td>yes</td>\n",
       "      <td>2013</td>\n",
       "      <td>S 350</td>\n",
       "      <td>rear</td>\n",
       "    </tr>\n",
       "  </tbody>\n",
       "</table>\n",
       "<p>9576 rows × 10 columns</p>\n",
       "</div>"
      ],
      "text/plain": [
       "                car     price       body  mileage  engV engType registration  \\\n",
       "7621        Bentley  547800.0      sedan        0  6.75  Petrol          yes   \n",
       "7914        Bentley  499999.0  crossover        0  6.00  Petrol          yes   \n",
       "1611        Bentley  499999.0  crossover        0  6.00  Petrol          yes   \n",
       "4134        Bentley  449999.0  crossover        0  6.00  Petrol          yes   \n",
       "4325  Mercedes-Benz  300000.0      sedan       68  6.00  Petrol          yes   \n",
       "...             ...       ...        ...      ...   ...     ...          ...   \n",
       "70    Mercedes-Benz       0.0  crossover        0  3.00  Diesel          yes   \n",
       "158      Land Rover       0.0  crossover       45  3.00  Petrol          yes   \n",
       "4786  Mercedes-Benz       0.0  crossover       27  3.00  Diesel          yes   \n",
       "4784    Rolls-Royce       0.0      sedan       22  6.75   Other          yes   \n",
       "215   Mercedes-Benz       0.0      sedan       62  3.00  Diesel          yes   \n",
       "\n",
       "      year              model drive  \n",
       "7621  2016           Mulsanne  rear  \n",
       "7914  2016           Bentayga  full  \n",
       "1611  2016           Bentayga  full  \n",
       "4134  2016           Bentayga  full  \n",
       "4325  2011              S 600   NaN  \n",
       "...    ...                ...   ...  \n",
       "70    2016          GLE-Class  full  \n",
       "158   2014  Range Rover Sport  full  \n",
       "4786  2015              G 350  full  \n",
       "4784  2008            Phantom  rear  \n",
       "215   2013              S 350  rear  \n",
       "\n",
       "[9576 rows x 10 columns]"
      ]
     },
     "execution_count": 10,
     "metadata": {},
     "output_type": "execute_result"
    }
   ],
   "source": [
    "# Viewing dataset sort by price in descending order. \n",
    "carsales_data.sort_values(by=['price'],ascending= False)"
   ]
  },
  {
   "cell_type": "code",
   "execution_count": 11,
   "id": "a1b55d1e-ffe5-4078-ac78-135f95c79621",
   "metadata": {},
   "outputs": [
    {
     "data": {
      "text/html": [
       "<div>\n",
       "<style scoped>\n",
       "    .dataframe tbody tr th:only-of-type {\n",
       "        vertical-align: middle;\n",
       "    }\n",
       "\n",
       "    .dataframe tbody tr th {\n",
       "        vertical-align: top;\n",
       "    }\n",
       "\n",
       "    .dataframe thead th {\n",
       "        text-align: right;\n",
       "    }\n",
       "</style>\n",
       "<table border=\"1\" class=\"dataframe\">\n",
       "  <thead>\n",
       "    <tr style=\"text-align: right;\">\n",
       "      <th></th>\n",
       "      <th>car</th>\n",
       "      <th>price</th>\n",
       "      <th>body</th>\n",
       "      <th>mileage</th>\n",
       "      <th>engV</th>\n",
       "      <th>engType</th>\n",
       "      <th>registration</th>\n",
       "      <th>year</th>\n",
       "      <th>model</th>\n",
       "      <th>drive</th>\n",
       "    </tr>\n",
       "  </thead>\n",
       "  <tbody>\n",
       "    <tr>\n",
       "      <th>7621</th>\n",
       "      <td>Bentley</td>\n",
       "      <td>547800.0</td>\n",
       "      <td>sedan</td>\n",
       "      <td>0</td>\n",
       "      <td>6.75</td>\n",
       "      <td>Petrol</td>\n",
       "      <td>yes</td>\n",
       "      <td>2016</td>\n",
       "      <td>Mulsanne</td>\n",
       "      <td>rear</td>\n",
       "    </tr>\n",
       "    <tr>\n",
       "      <th>7914</th>\n",
       "      <td>Bentley</td>\n",
       "      <td>499999.0</td>\n",
       "      <td>crossover</td>\n",
       "      <td>0</td>\n",
       "      <td>6.00</td>\n",
       "      <td>Petrol</td>\n",
       "      <td>yes</td>\n",
       "      <td>2016</td>\n",
       "      <td>Bentayga</td>\n",
       "      <td>full</td>\n",
       "    </tr>\n",
       "    <tr>\n",
       "      <th>1611</th>\n",
       "      <td>Bentley</td>\n",
       "      <td>499999.0</td>\n",
       "      <td>crossover</td>\n",
       "      <td>0</td>\n",
       "      <td>6.00</td>\n",
       "      <td>Petrol</td>\n",
       "      <td>yes</td>\n",
       "      <td>2016</td>\n",
       "      <td>Bentayga</td>\n",
       "      <td>full</td>\n",
       "    </tr>\n",
       "    <tr>\n",
       "      <th>4134</th>\n",
       "      <td>Bentley</td>\n",
       "      <td>449999.0</td>\n",
       "      <td>crossover</td>\n",
       "      <td>0</td>\n",
       "      <td>6.00</td>\n",
       "      <td>Petrol</td>\n",
       "      <td>yes</td>\n",
       "      <td>2016</td>\n",
       "      <td>Bentayga</td>\n",
       "      <td>full</td>\n",
       "    </tr>\n",
       "    <tr>\n",
       "      <th>4325</th>\n",
       "      <td>Mercedes-Benz</td>\n",
       "      <td>300000.0</td>\n",
       "      <td>sedan</td>\n",
       "      <td>68</td>\n",
       "      <td>6.00</td>\n",
       "      <td>Petrol</td>\n",
       "      <td>yes</td>\n",
       "      <td>2011</td>\n",
       "      <td>S 600</td>\n",
       "      <td>NaN</td>\n",
       "    </tr>\n",
       "    <tr>\n",
       "      <th>5849</th>\n",
       "      <td>Mercedes-Benz</td>\n",
       "      <td>300000.0</td>\n",
       "      <td>other</td>\n",
       "      <td>37</td>\n",
       "      <td>5.00</td>\n",
       "      <td>Petrol</td>\n",
       "      <td>yes</td>\n",
       "      <td>2012</td>\n",
       "      <td>G 500</td>\n",
       "      <td>full</td>\n",
       "    </tr>\n",
       "    <tr>\n",
       "      <th>1891</th>\n",
       "      <td>Mercedes-Benz</td>\n",
       "      <td>295000.0</td>\n",
       "      <td>sedan</td>\n",
       "      <td>29</td>\n",
       "      <td>6.00</td>\n",
       "      <td>Petrol</td>\n",
       "      <td>yes</td>\n",
       "      <td>2011</td>\n",
       "      <td>S 600</td>\n",
       "      <td>rear</td>\n",
       "    </tr>\n",
       "    <tr>\n",
       "      <th>2165</th>\n",
       "      <td>Mercedes-Benz</td>\n",
       "      <td>295000.0</td>\n",
       "      <td>sedan</td>\n",
       "      <td>29</td>\n",
       "      <td>6.00</td>\n",
       "      <td>Petrol</td>\n",
       "      <td>yes</td>\n",
       "      <td>2011</td>\n",
       "      <td>S-Guard</td>\n",
       "      <td>rear</td>\n",
       "    </tr>\n",
       "    <tr>\n",
       "      <th>8205</th>\n",
       "      <td>Land Rover</td>\n",
       "      <td>285000.0</td>\n",
       "      <td>crossover</td>\n",
       "      <td>0</td>\n",
       "      <td>5.00</td>\n",
       "      <td>Petrol</td>\n",
       "      <td>yes</td>\n",
       "      <td>2016</td>\n",
       "      <td>Range Rover</td>\n",
       "      <td>full</td>\n",
       "    </tr>\n",
       "    <tr>\n",
       "      <th>1478</th>\n",
       "      <td>Bentley</td>\n",
       "      <td>259000.0</td>\n",
       "      <td>sedan</td>\n",
       "      <td>0</td>\n",
       "      <td>6.00</td>\n",
       "      <td>Petrol</td>\n",
       "      <td>yes</td>\n",
       "      <td>2014</td>\n",
       "      <td>Flying Spur</td>\n",
       "      <td>full</td>\n",
       "    </tr>\n",
       "  </tbody>\n",
       "</table>\n",
       "</div>"
      ],
      "text/plain": [
       "                car     price       body  mileage  engV engType registration  \\\n",
       "7621        Bentley  547800.0      sedan        0  6.75  Petrol          yes   \n",
       "7914        Bentley  499999.0  crossover        0  6.00  Petrol          yes   \n",
       "1611        Bentley  499999.0  crossover        0  6.00  Petrol          yes   \n",
       "4134        Bentley  449999.0  crossover        0  6.00  Petrol          yes   \n",
       "4325  Mercedes-Benz  300000.0      sedan       68  6.00  Petrol          yes   \n",
       "5849  Mercedes-Benz  300000.0      other       37  5.00  Petrol          yes   \n",
       "1891  Mercedes-Benz  295000.0      sedan       29  6.00  Petrol          yes   \n",
       "2165  Mercedes-Benz  295000.0      sedan       29  6.00  Petrol          yes   \n",
       "8205     Land Rover  285000.0  crossover        0  5.00  Petrol          yes   \n",
       "1478        Bentley  259000.0      sedan        0  6.00  Petrol          yes   \n",
       "\n",
       "      year        model drive  \n",
       "7621  2016     Mulsanne  rear  \n",
       "7914  2016     Bentayga  full  \n",
       "1611  2016     Bentayga  full  \n",
       "4134  2016     Bentayga  full  \n",
       "4325  2011        S 600   NaN  \n",
       "5849  2012        G 500  full  \n",
       "1891  2011        S 600  rear  \n",
       "2165  2011      S-Guard  rear  \n",
       "8205  2016  Range Rover  full  \n",
       "1478  2014  Flying Spur  full  "
      ]
     },
     "execution_count": 11,
     "metadata": {},
     "output_type": "execute_result"
    }
   ],
   "source": [
    "# Viewing dataset sort by price in descending order starting 10 record . \n",
    "carsales_data.sort_values(by=['price'],ascending= False).head(10)"
   ]
  },
  {
   "cell_type": "code",
   "execution_count": 12,
   "id": "ac97aad1-4b91-4080-bfa3-4a6451423a29",
   "metadata": {},
   "outputs": [
    {
     "data": {
      "text/html": [
       "<div>\n",
       "<style scoped>\n",
       "    .dataframe tbody tr th:only-of-type {\n",
       "        vertical-align: middle;\n",
       "    }\n",
       "\n",
       "    .dataframe tbody tr th {\n",
       "        vertical-align: top;\n",
       "    }\n",
       "\n",
       "    .dataframe thead th {\n",
       "        text-align: right;\n",
       "    }\n",
       "</style>\n",
       "<table border=\"1\" class=\"dataframe\">\n",
       "  <thead>\n",
       "    <tr style=\"text-align: right;\">\n",
       "      <th></th>\n",
       "      <th>car</th>\n",
       "      <th>price</th>\n",
       "      <th>body</th>\n",
       "      <th>mileage</th>\n",
       "      <th>engV</th>\n",
       "      <th>engType</th>\n",
       "      <th>registration</th>\n",
       "      <th>year</th>\n",
       "      <th>model</th>\n",
       "      <th>drive</th>\n",
       "    </tr>\n",
       "  </thead>\n",
       "  <tbody>\n",
       "    <tr>\n",
       "      <th>4864</th>\n",
       "      <td>BMW</td>\n",
       "      <td>0.0</td>\n",
       "      <td>crossover</td>\n",
       "      <td>16</td>\n",
       "      <td>NaN</td>\n",
       "      <td>Other</td>\n",
       "      <td>yes</td>\n",
       "      <td>2016</td>\n",
       "      <td>X5 M</td>\n",
       "      <td>NaN</td>\n",
       "    </tr>\n",
       "    <tr>\n",
       "      <th>7496</th>\n",
       "      <td>Subaru</td>\n",
       "      <td>0.0</td>\n",
       "      <td>crossover</td>\n",
       "      <td>1</td>\n",
       "      <td>2.0</td>\n",
       "      <td>Diesel</td>\n",
       "      <td>yes</td>\n",
       "      <td>2016</td>\n",
       "      <td>Forester</td>\n",
       "      <td>full</td>\n",
       "    </tr>\n",
       "    <tr>\n",
       "      <th>3625</th>\n",
       "      <td>Daewoo</td>\n",
       "      <td>0.0</td>\n",
       "      <td>sedan</td>\n",
       "      <td>39</td>\n",
       "      <td>1.6</td>\n",
       "      <td>Gas</td>\n",
       "      <td>yes</td>\n",
       "      <td>2012</td>\n",
       "      <td>Nexia</td>\n",
       "      <td>front</td>\n",
       "    </tr>\n",
       "    <tr>\n",
       "      <th>7497</th>\n",
       "      <td>Mercedes-Benz</td>\n",
       "      <td>0.0</td>\n",
       "      <td>sedan</td>\n",
       "      <td>42</td>\n",
       "      <td>3.0</td>\n",
       "      <td>Diesel</td>\n",
       "      <td>yes</td>\n",
       "      <td>2014</td>\n",
       "      <td>S 350</td>\n",
       "      <td>full</td>\n",
       "    </tr>\n",
       "    <tr>\n",
       "      <th>8512</th>\n",
       "      <td>GAZ</td>\n",
       "      <td>0.0</td>\n",
       "      <td>sedan</td>\n",
       "      <td>1</td>\n",
       "      <td>2.4</td>\n",
       "      <td>Petrol</td>\n",
       "      <td>yes</td>\n",
       "      <td>1969</td>\n",
       "      <td>21</td>\n",
       "      <td>front</td>\n",
       "    </tr>\n",
       "    <tr>\n",
       "      <th>8824</th>\n",
       "      <td>Fisker</td>\n",
       "      <td>0.0</td>\n",
       "      <td>other</td>\n",
       "      <td>100</td>\n",
       "      <td>NaN</td>\n",
       "      <td>Other</td>\n",
       "      <td>yes</td>\n",
       "      <td>2001</td>\n",
       "      <td>Karma</td>\n",
       "      <td>NaN</td>\n",
       "    </tr>\n",
       "    <tr>\n",
       "      <th>8026</th>\n",
       "      <td>Toyota</td>\n",
       "      <td>0.0</td>\n",
       "      <td>crossover</td>\n",
       "      <td>1</td>\n",
       "      <td>2.2</td>\n",
       "      <td>Diesel</td>\n",
       "      <td>yes</td>\n",
       "      <td>2016</td>\n",
       "      <td>Rav 4</td>\n",
       "      <td>full</td>\n",
       "    </tr>\n",
       "    <tr>\n",
       "      <th>7580</th>\n",
       "      <td>Mercedes-Benz</td>\n",
       "      <td>0.0</td>\n",
       "      <td>sedan</td>\n",
       "      <td>0</td>\n",
       "      <td>3.0</td>\n",
       "      <td>Petrol</td>\n",
       "      <td>yes</td>\n",
       "      <td>2016</td>\n",
       "      <td>S 400</td>\n",
       "      <td>full</td>\n",
       "    </tr>\n",
       "    <tr>\n",
       "      <th>1386</th>\n",
       "      <td>Hyundai</td>\n",
       "      <td>0.0</td>\n",
       "      <td>crossover</td>\n",
       "      <td>39</td>\n",
       "      <td>2.2</td>\n",
       "      <td>Diesel</td>\n",
       "      <td>yes</td>\n",
       "      <td>2012</td>\n",
       "      <td>Santa FE</td>\n",
       "      <td>full</td>\n",
       "    </tr>\n",
       "    <tr>\n",
       "      <th>8015</th>\n",
       "      <td>Mercedes-Benz</td>\n",
       "      <td>0.0</td>\n",
       "      <td>sedan</td>\n",
       "      <td>16</td>\n",
       "      <td>3.0</td>\n",
       "      <td>Diesel</td>\n",
       "      <td>yes</td>\n",
       "      <td>2014</td>\n",
       "      <td>S 350</td>\n",
       "      <td>full</td>\n",
       "    </tr>\n",
       "  </tbody>\n",
       "</table>\n",
       "</div>"
      ],
      "text/plain": [
       "                car  price       body  mileage  engV engType registration  \\\n",
       "4864            BMW    0.0  crossover       16   NaN   Other          yes   \n",
       "7496         Subaru    0.0  crossover        1   2.0  Diesel          yes   \n",
       "3625         Daewoo    0.0      sedan       39   1.6     Gas          yes   \n",
       "7497  Mercedes-Benz    0.0      sedan       42   3.0  Diesel          yes   \n",
       "8512            GAZ    0.0      sedan        1   2.4  Petrol          yes   \n",
       "8824         Fisker    0.0      other      100   NaN   Other          yes   \n",
       "8026         Toyota    0.0  crossover        1   2.2  Diesel          yes   \n",
       "7580  Mercedes-Benz    0.0      sedan        0   3.0  Petrol          yes   \n",
       "1386        Hyundai    0.0  crossover       39   2.2  Diesel          yes   \n",
       "8015  Mercedes-Benz    0.0      sedan       16   3.0  Diesel          yes   \n",
       "\n",
       "      year     model  drive  \n",
       "4864  2016      X5 M    NaN  \n",
       "7496  2016  Forester   full  \n",
       "3625  2012     Nexia  front  \n",
       "7497  2014     S 350   full  \n",
       "8512  1969        21  front  \n",
       "8824  2001     Karma    NaN  \n",
       "8026  2016     Rav 4   full  \n",
       "7580  2016     S 400   full  \n",
       "1386  2012  Santa FE   full  \n",
       "8015  2014     S 350   full  "
      ]
     },
     "execution_count": 12,
     "metadata": {},
     "output_type": "execute_result"
    }
   ],
   "source": [
    "# Viewing dataset sort by price in ascending order first 10 record . \n",
    "carsales_data.sort_values(by=['price'],ascending= True).head(10)"
   ]
  },
  {
   "cell_type": "code",
   "execution_count": 13,
   "id": "101d2a9b-4295-43e4-b48c-37effd85f7e1",
   "metadata": {},
   "outputs": [
    {
     "data": {
      "text/plain": [
       "car\n",
       "Volkswagen       936\n",
       "Mercedes-Benz    921\n",
       "BMW              694\n",
       "Toyota           541\n",
       "VAZ              489\n",
       "Name: price, dtype: int64"
      ]
     },
     "execution_count": 13,
     "metadata": {},
     "output_type": "execute_result"
    }
   ],
   "source": [
    "# creating a group for most selling cars form data sets.\n",
    "carsales_data.groupby('car')['price'].count().sort_values(ascending=False).head(5)"
   ]
  },
  {
   "cell_type": "markdown",
   "id": "4c019390-a9bb-4608-912e-3f96d7a6ea6f",
   "metadata": {},
   "source": [
    "It has been observed that top 3 selling cars are Volkswagen, Mercedes-Benz, BMW ."
   ]
  },
  {
   "cell_type": "code",
   "execution_count": 14,
   "id": "a0bb5647-10d6-4520-be07-36b3b0afe405",
   "metadata": {},
   "outputs": [
    {
     "data": {
      "text/plain": [
       "Volkswagen       9.774436\n",
       "Mercedes-Benz    9.617794\n",
       "BMW              7.247285\n",
       "Toyota           5.649541\n",
       "VAZ              5.106516\n",
       "                   ...   \n",
       "ZX               0.010443\n",
       "Other-Retro      0.010443\n",
       "Mercury          0.010443\n",
       "Maserati         0.010443\n",
       "Buick            0.010443\n",
       "Name: car, Length: 87, dtype: float64"
      ]
     },
     "execution_count": 14,
     "metadata": {},
     "output_type": "execute_result"
    }
   ],
   "source": [
    "# which cars has most sales parcentile. \n",
    "carsales_data['car'].value_counts(normalize=True) * 100 "
   ]
  },
  {
   "cell_type": "code",
   "execution_count": 15,
   "id": "20cf4fca-9d39-4d01-910c-7b421d73cf79",
   "metadata": {},
   "outputs": [
    {
     "data": {
      "text/plain": [
       "car         body     \n",
       "Acura       sedan        0.538462\n",
       "            crossover    0.461538\n",
       "Alfa Romeo  sedan        0.545455\n",
       "            hatch        0.363636\n",
       "            vagon        0.090909\n",
       "Name: body, dtype: float64"
      ]
     },
     "execution_count": 15,
     "metadata": {},
     "output_type": "execute_result"
    }
   ],
   "source": [
    "# creating a group for most selling cars by body type.\n",
    "carsales_data.groupby('car')['body'].value_counts(normalize=True).head()"
   ]
  },
  {
   "cell_type": "code",
   "execution_count": 16,
   "id": "44c949bf-53de-477c-9cba-fa0c47c73f81",
   "metadata": {},
   "outputs": [
    {
     "name": "stderr",
     "output_type": "stream",
     "text": [
      "/tmp/ipykernel_84/3118432294.py:1: FutureWarning: The default value of numeric_only in DataFrame.corr is deprecated. In a future version, it will default to False. Select only valid columns or specify the value of numeric_only to silence this warning.\n",
      "  carsales_data.corr()\n"
     ]
    },
    {
     "data": {
      "text/html": [
       "<div>\n",
       "<style scoped>\n",
       "    .dataframe tbody tr th:only-of-type {\n",
       "        vertical-align: middle;\n",
       "    }\n",
       "\n",
       "    .dataframe tbody tr th {\n",
       "        vertical-align: top;\n",
       "    }\n",
       "\n",
       "    .dataframe thead th {\n",
       "        text-align: right;\n",
       "    }\n",
       "</style>\n",
       "<table border=\"1\" class=\"dataframe\">\n",
       "  <thead>\n",
       "    <tr style=\"text-align: right;\">\n",
       "      <th></th>\n",
       "      <th>price</th>\n",
       "      <th>mileage</th>\n",
       "      <th>engV</th>\n",
       "      <th>year</th>\n",
       "    </tr>\n",
       "  </thead>\n",
       "  <tbody>\n",
       "    <tr>\n",
       "      <th>price</th>\n",
       "      <td>1.000000</td>\n",
       "      <td>-0.312415</td>\n",
       "      <td>0.051070</td>\n",
       "      <td>0.370379</td>\n",
       "    </tr>\n",
       "    <tr>\n",
       "      <th>mileage</th>\n",
       "      <td>-0.312415</td>\n",
       "      <td>1.000000</td>\n",
       "      <td>0.047070</td>\n",
       "      <td>-0.495599</td>\n",
       "    </tr>\n",
       "    <tr>\n",
       "      <th>engV</th>\n",
       "      <td>0.051070</td>\n",
       "      <td>0.047070</td>\n",
       "      <td>1.000000</td>\n",
       "      <td>-0.042251</td>\n",
       "    </tr>\n",
       "    <tr>\n",
       "      <th>year</th>\n",
       "      <td>0.370379</td>\n",
       "      <td>-0.495599</td>\n",
       "      <td>-0.042251</td>\n",
       "      <td>1.000000</td>\n",
       "    </tr>\n",
       "  </tbody>\n",
       "</table>\n",
       "</div>"
      ],
      "text/plain": [
       "            price   mileage      engV      year\n",
       "price    1.000000 -0.312415  0.051070  0.370379\n",
       "mileage -0.312415  1.000000  0.047070 -0.495599\n",
       "engV     0.051070  0.047070  1.000000 -0.042251\n",
       "year     0.370379 -0.495599 -0.042251  1.000000"
      ]
     },
     "execution_count": 16,
     "metadata": {},
     "output_type": "execute_result"
    }
   ],
   "source": [
    "# this will return us correlation between data \n",
    "carsales_data.corr()"
   ]
  },
  {
   "cell_type": "code",
   "execution_count": 17,
   "id": "7a40a621-bcc2-439e-b494-4f7e4b277a0c",
   "metadata": {},
   "outputs": [
    {
     "name": "stderr",
     "output_type": "stream",
     "text": [
      "/tmp/ipykernel_84/973853901.py:5: FutureWarning: The default value of numeric_only in DataFrame.corr is deprecated. In a future version, it will default to False. Select only valid columns or specify the value of numeric_only to silence this warning.\n",
      "  sns.heatmap(carsales_data.corr(),annot=True)\n"
     ]
    },
    {
     "data": {
      "text/plain": [
       "<AxesSubplot: >"
      ]
     },
     "execution_count": 17,
     "metadata": {},
     "output_type": "execute_result"
    },
    {
     "data": {
      "image/png": "[encoded data removed]",
      "text/plain": [
       "<Figure size 1000x2000 with 2 Axes>"
      ]
     },
     "metadata": {},
     "output_type": "display_data"
    }
   ],
   "source": [
    "# using seaborn for a high level interface for drawing attractive and informative statical graph using heatmap.\n",
    "import seaborn as sns\n",
    "sns.set()\n",
    "plt.subplots(figsize=(10,20))\n",
    "sns.heatmap(carsales_data.corr(),annot=True)"
   ]
  },
  {
   "cell_type": "code",
   "execution_count": 18,
   "id": "db5c7f99-2974-46fc-98f3-182d9f124685",
   "metadata": {},
   "outputs": [
    {
     "name": "stdout",
     "output_type": "stream",
     "text": [
      "<class 'pandas.core.frame.DataFrame'>\n",
      "RangeIndex: 9576 entries, 0 to 9575\n",
      "Data columns (total 10 columns):\n",
      " #   Column        Non-Null Count  Dtype  \n",
      "---  ------        --------------  -----  \n",
      " 0   car           9576 non-null   object \n",
      " 1   price         9576 non-null   float64\n",
      " 2   body          9576 non-null   object \n",
      " 3   mileage       9576 non-null   int64  \n",
      " 4   engV          9142 non-null   float64\n",
      " 5   engType       9576 non-null   object \n",
      " 6   registration  9576 non-null   object \n",
      " 7   year          9576 non-null   int64  \n",
      " 8   model         9576 non-null   object \n",
      " 9   drive         9065 non-null   object \n",
      "dtypes: float64(2), int64(2), object(6)\n",
      "memory usage: 748.2+ KB\n"
     ]
    }
   ],
   "source": [
    "# viewing data Dtype.\n",
    "carsales_data.info()  "
   ]
  },
  {
   "cell_type": "code",
   "execution_count": 19,
   "id": "60a8aa81-a07b-4a79-ab8b-5e32acf9bd68",
   "metadata": {},
   "outputs": [
    {
     "data": {
      "text/plain": [
       "car               0\n",
       "price             0\n",
       "body              0\n",
       "mileage           0\n",
       "engV            434\n",
       "engType           0\n",
       "registration      0\n",
       "year              0\n",
       "model             0\n",
       "drive           511\n",
       "dtype: int64"
      ]
     },
     "execution_count": 19,
     "metadata": {},
     "output_type": "execute_result"
    }
   ],
   "source": [
    "# viewing how much null data in dataset.\n",
    "carsales_data.isnull().sum()"
   ]
  },
  {
   "cell_type": "markdown",
   "id": "59056c06-a526-4649-b7a0-c962282b7871",
   "metadata": {},
   "source": [
    "From the above output we can see that engV and drive columns contains maximum null values. We will see how to deal with them."
   ]
  },
  {
   "cell_type": "code",
   "execution_count": 20,
   "id": "cf494874-ea4c-4c20-8c32-bb034a9b2368",
   "metadata": {},
   "outputs": [
    {
     "data": {
      "text/plain": [
       "<AxesSubplot: >"
      ]
     },
     "execution_count": 20,
     "metadata": {},
     "output_type": "execute_result"
    },
    {
     "data": {
      "image/png": "[encoded data removed]",
      "text/plain": [
       "<Figure size 640x480 with 1 Axes>"
      ]
     },
     "metadata": {},
     "output_type": "display_data"
    }
   ],
   "source": [
    "# we are seeing outliers from engV.\n",
    "sns.boxplot(data=carsales_data.engV)"
   ]
  },
  {
   "cell_type": "markdown",
   "id": "b74d406b-8d7b-46db-b159-7cbf4dddf746",
   "metadata": {},
   "source": [
    "1. Fill Missing\n",
    "2. sort().according to price (Asending)\n",
    "2. Group by drive \n",
    "4. Dummy"
   ]
  },
  {
   "cell_type": "markdown",
   "id": "ecb4e037-2597-42ed-95d2-87c4b6e55da8",
   "metadata": {},
   "source": [
    "3.2 Pre Profiling"
   ]
  },
  {
   "cell_type": "code",
   "execution_count": 21,
   "id": "386513db-2ae6-4458-9920-c68d5dc12f58",
   "metadata": {},
   "outputs": [
    {
     "name": "stdout",
     "output_type": "stream",
     "text": [
      "Requirement already satisfied: pandas_profiling in /opt/conda/lib/python3.10/site-packages (3.6.2)\n",
      "Requirement already satisfied: jinja2<3.2,>=2.11.1 in /opt/conda/lib/python3.10/site-packages (from pandas_profiling) (3.1.2)\n",
      "Requirement already satisfied: tqdm<4.65,>=4.48.2 in /opt/conda/lib/python3.10/site-packages (from pandas_profiling) (4.64.1)\n",
      "Requirement already satisfied: typeguard<2.14,>=2.13.2 in /opt/conda/lib/python3.10/site-packages (from pandas_profiling) (2.13.3)\n",
      "Requirement already satisfied: statsmodels<0.14,>=0.13.2 in /opt/conda/lib/python3.10/site-packages (from pandas_profiling) (0.13.2)\n",
      "Requirement already satisfied: visions[type_image_path]==0.7.5 in /opt/conda/lib/python3.10/site-packages (from pandas_profiling) (0.7.5)\n",
      "Requirement already satisfied: phik<0.13,>=0.11.1 in /opt/conda/lib/python3.10/site-packages (from pandas_profiling) (0.12.3)\n",
      "Requirement already satisfied: requests<2.29,>=2.24.0 in /opt/conda/lib/python3.10/site-packages (from pandas_profiling) (2.28.1)\n",
      "Requirement already satisfied: multimethod<1.10,>=1.4 in /opt/conda/lib/python3.10/site-packages (from pandas_profiling) (1.9.1)\n",
      "Requirement already satisfied: pydantic<1.11,>=1.8.1 in /opt/conda/lib/python3.10/site-packages (from pandas_profiling) (1.10.4)\n",
      "Requirement already satisfied: scipy<1.10,>=1.4.1 in /opt/conda/lib/python3.10/site-packages (from pandas_profiling) (1.9.3)\n",
      "Requirement already satisfied: PyYAML<6.1,>=5.0.0 in /opt/conda/lib/python3.10/site-packages (from pandas_profiling) (6.0)\n",
      "Requirement already satisfied: pandas!=1.4.0,<1.6,>1.1 in /opt/conda/lib/python3.10/site-packages (from pandas_profiling) (1.5.1)\n",
      "Requirement already satisfied: seaborn<0.13,>=0.10.1 in /opt/conda/lib/python3.10/site-packages (from pandas_profiling) (0.12.0)\n",
      "Requirement already satisfied: numpy<1.24,>=1.16.0 in /opt/conda/lib/python3.10/site-packages (from pandas_profiling) (1.23.4)\n",
      "Requirement already satisfied: matplotlib<3.7,>=3.2 in /opt/conda/lib/python3.10/site-packages (from pandas_profiling) (3.6.1)\n",
      "Requirement already satisfied: htmlmin==0.1.12 in /opt/conda/lib/python3.10/site-packages (from pandas_profiling) (0.1.12)\n",
      "Requirement already satisfied: tangled-up-in-unicode>=0.0.4 in /opt/conda/lib/python3.10/site-packages (from visions[type_image_path]==0.7.5->pandas_profiling) (0.2.0)\n",
      "Requirement already satisfied: attrs>=19.3.0 in /opt/conda/lib/python3.10/site-packages (from visions[type_image_path]==0.7.5->pandas_profiling) (22.1.0)\n",
      "Requirement already satisfied: networkx>=2.4 in /opt/conda/lib/python3.10/site-packages (from visions[type_image_path]==0.7.5->pandas_profiling) (2.8.7)\n",
      "Requirement already satisfied: Pillow in /opt/conda/lib/python3.10/site-packages (from visions[type_image_path]==0.7.5->pandas_profiling) (9.2.0)\n",
      "Requirement already satisfied: imagehash in /opt/conda/lib/python3.10/site-packages (from visions[type_image_path]==0.7.5->pandas_profiling) (4.3.1)\n",
      "Requirement already satisfied: MarkupSafe>=2.0 in /opt/conda/lib/python3.10/site-packages (from jinja2<3.2,>=2.11.1->pandas_profiling) (2.1.1)\n",
      "Requirement already satisfied: python-dateutil>=2.7 in /opt/conda/lib/python3.10/site-packages (from matplotlib<3.7,>=3.2->pandas_profiling) (2.8.2)\n",
      "Requirement already satisfied: fonttools>=4.22.0 in /opt/conda/lib/python3.10/site-packages (from matplotlib<3.7,>=3.2->pandas_profiling) (4.38.0)\n",
      "Requirement already satisfied: kiwisolver>=1.0.1 in /opt/conda/lib/python3.10/site-packages (from matplotlib<3.7,>=3.2->pandas_profiling) (1.4.4)\n",
      "Requirement already satisfied: pyparsing>=2.2.1 in /opt/conda/lib/python3.10/site-packages (from matplotlib<3.7,>=3.2->pandas_profiling) (3.0.9)\n",
      "Requirement already satisfied: packaging>=20.0 in /opt/conda/lib/python3.10/site-packages (from matplotlib<3.7,>=3.2->pandas_profiling) (21.3)\n",
      "Requirement already satisfied: cycler>=0.10 in /opt/conda/lib/python3.10/site-packages (from matplotlib<3.7,>=3.2->pandas_profiling) (0.11.0)\n",
      "Requirement already satisfied: contourpy>=1.0.1 in /opt/conda/lib/python3.10/site-packages (from matplotlib<3.7,>=3.2->pandas_profiling) (1.0.5)\n",
      "Requirement already satisfied: pytz>=2020.1 in /opt/conda/lib/python3.10/site-packages (from pandas!=1.4.0,<1.6,>1.1->pandas_profiling) (2022.5)\n",
      "Requirement already satisfied: joblib>=0.14.1 in /opt/conda/lib/python3.10/site-packages (from phik<0.13,>=0.11.1->pandas_profiling) (1.2.0)\n",
      "Requirement already satisfied: typing-extensions>=4.2.0 in /opt/conda/lib/python3.10/site-packages (from pydantic<1.11,>=1.8.1->pandas_profiling) (4.4.0)\n",
      "Requirement already satisfied: charset-normalizer<3,>=2 in /opt/conda/lib/python3.10/site-packages (from requests<2.29,>=2.24.0->pandas_profiling) (2.1.1)\n",
      "Requirement already satisfied: certifi>=2017.4.17 in /opt/conda/lib/python3.10/site-packages (from requests<2.29,>=2.24.0->pandas_profiling) (2022.9.24)\n",
      "Requirement already satisfied: idna<4,>=2.5 in /opt/conda/lib/python3.10/site-packages (from requests<2.29,>=2.24.0->pandas_profiling) (3.4)\n",
      "Requirement already satisfied: urllib3<1.27,>=1.21.1 in /opt/conda/lib/python3.10/site-packages (from requests<2.29,>=2.24.0->pandas_profiling) (1.26.11)\n",
      "Requirement already satisfied: patsy>=0.5.2 in /opt/conda/lib/python3.10/site-packages (from statsmodels<0.14,>=0.13.2->pandas_profiling) (0.5.3)\n",
      "Requirement already satisfied: six in /opt/conda/lib/python3.10/site-packages (from patsy>=0.5.2->statsmodels<0.14,>=0.13.2->pandas_profiling) (1.16.0)\n",
      "Requirement already satisfied: PyWavelets in /opt/conda/lib/python3.10/site-packages (from imagehash->visions[type_image_path]==0.7.5->pandas_profiling) (1.3.0)\n",
      "Note: you may need to restart the kernel to use updated packages.\n"
     ]
    }
   ],
   "source": [
    "pip install pandas_profiling    ##Installing pandas_profiling packages"
   ]
  },
  {
   "cell_type": "code",
   "execution_count": 22,
   "id": "5ec8eafb-0806-41dd-93ec-e26a71761fe3",
   "metadata": {},
   "outputs": [],
   "source": [
    "import pandas as pd                              # Implements milti_dimensional array and matrics\n",
    "import numpy as np                               # For data manipultion\n",
    "import matplotlib.pyplot as plt                  # Plotting library for Python programming language.\n",
    "import pandas_profiling        # Importing pandas_profiling  \n",
    "import seaborn as sns                            # Provides a high level interface for drawing attractive analysis\n",
    "%matplotlib inline\n",
    "sns.set()\n",
    "from subprocess import check_output"
   ]
  },
  {
   "cell_type": "code",
   "execution_count": 23,
   "id": "682fbaee-070e-4dfc-833b-1056f5a905e2",
   "metadata": {},
   "outputs": [],
   "source": [
    "# Now performing pandas profiling to understand data better.\n",
    "#profile = pandas_profiling.ProfileReport(carsales_data)\n",
    "#profile"
   ]
  },
  {
   "cell_type": "code",
   "execution_count": 24,
   "id": "0ddf65ae-c20e-40b6-83ec-ccce94228dba",
   "metadata": {},
   "outputs": [],
   "source": [
    "# Now saving a copy of profile report in html format.\n",
    "#profile.to_file(output_file=\"CarSales_before_preprocessing.html\")"
   ]
  },
  {
   "cell_type": "markdown",
   "id": "c13beb09-a8c6-406e-8e75-9ee5755cb421",
   "metadata": {},
   "source": [
    "3.3 Preprocessing \n",
    "  \n",
    "  . Dealing With duplicate rows\n",
    "  \n",
    "  . Find number of duplicate rows in the dataset.\n",
    "  \n",
    "  . Print the duplicate entries and analyze.\n",
    "  \n",
    "  . Drop the duplicate entries from the dataset."
   ]
  },
  {
   "cell_type": "code",
   "execution_count": 25,
   "id": "575f2d61-f690-4abd-9932-f09cc7bb9cab",
   "metadata": {},
   "outputs": [],
   "source": [
    "## creating a duplicate dataset for doing Preprocessing\n",
    "carsales_data_prepro = carsales_data"
   ]
  },
  {
   "cell_type": "code",
   "execution_count": 26,
   "id": "45e9b78f-6033-4cc8-ba5a-eacff4de049e",
   "metadata": {},
   "outputs": [
    {
     "data": {
      "text/html": [
       "<div>\n",
       "<style scoped>\n",
       "    .dataframe tbody tr th:only-of-type {\n",
       "        vertical-align: middle;\n",
       "    }\n",
       "\n",
       "    .dataframe tbody tr th {\n",
       "        vertical-align: top;\n",
       "    }\n",
       "\n",
       "    .dataframe thead th {\n",
       "        text-align: right;\n",
       "    }\n",
       "</style>\n",
       "<table border=\"1\" class=\"dataframe\">\n",
       "  <thead>\n",
       "    <tr style=\"text-align: right;\">\n",
       "      <th></th>\n",
       "      <th>car</th>\n",
       "      <th>price</th>\n",
       "      <th>body</th>\n",
       "      <th>mileage</th>\n",
       "      <th>engV</th>\n",
       "      <th>engType</th>\n",
       "      <th>registration</th>\n",
       "      <th>year</th>\n",
       "      <th>model</th>\n",
       "      <th>drive</th>\n",
       "    </tr>\n",
       "  </thead>\n",
       "  <tbody>\n",
       "    <tr>\n",
       "      <th>0</th>\n",
       "      <td>Ford</td>\n",
       "      <td>15500.0</td>\n",
       "      <td>crossover</td>\n",
       "      <td>68</td>\n",
       "      <td>2.5</td>\n",
       "      <td>Gas</td>\n",
       "      <td>yes</td>\n",
       "      <td>2010</td>\n",
       "      <td>Kuga</td>\n",
       "      <td>full</td>\n",
       "    </tr>\n",
       "    <tr>\n",
       "      <th>1</th>\n",
       "      <td>Mercedes-Benz</td>\n",
       "      <td>20500.0</td>\n",
       "      <td>sedan</td>\n",
       "      <td>173</td>\n",
       "      <td>1.8</td>\n",
       "      <td>Gas</td>\n",
       "      <td>yes</td>\n",
       "      <td>2011</td>\n",
       "      <td>E-Class</td>\n",
       "      <td>rear</td>\n",
       "    </tr>\n",
       "    <tr>\n",
       "      <th>2</th>\n",
       "      <td>Mercedes-Benz</td>\n",
       "      <td>35000.0</td>\n",
       "      <td>other</td>\n",
       "      <td>135</td>\n",
       "      <td>5.5</td>\n",
       "      <td>Petrol</td>\n",
       "      <td>yes</td>\n",
       "      <td>2008</td>\n",
       "      <td>CL 550</td>\n",
       "      <td>rear</td>\n",
       "    </tr>\n",
       "    <tr>\n",
       "      <th>3</th>\n",
       "      <td>Mercedes-Benz</td>\n",
       "      <td>17800.0</td>\n",
       "      <td>van</td>\n",
       "      <td>162</td>\n",
       "      <td>1.8</td>\n",
       "      <td>Diesel</td>\n",
       "      <td>yes</td>\n",
       "      <td>2012</td>\n",
       "      <td>B 180</td>\n",
       "      <td>front</td>\n",
       "    </tr>\n",
       "    <tr>\n",
       "      <th>4</th>\n",
       "      <td>Mercedes-Benz</td>\n",
       "      <td>33000.0</td>\n",
       "      <td>vagon</td>\n",
       "      <td>91</td>\n",
       "      <td>NaN</td>\n",
       "      <td>Other</td>\n",
       "      <td>yes</td>\n",
       "      <td>2013</td>\n",
       "      <td>E-Class</td>\n",
       "      <td>NaN</td>\n",
       "    </tr>\n",
       "  </tbody>\n",
       "</table>\n",
       "</div>"
      ],
      "text/plain": [
       "             car    price       body  mileage  engV engType registration  \\\n",
       "0           Ford  15500.0  crossover       68   2.5     Gas          yes   \n",
       "1  Mercedes-Benz  20500.0      sedan      173   1.8     Gas          yes   \n",
       "2  Mercedes-Benz  35000.0      other      135   5.5  Petrol          yes   \n",
       "3  Mercedes-Benz  17800.0        van      162   1.8  Diesel          yes   \n",
       "4  Mercedes-Benz  33000.0      vagon       91   NaN   Other          yes   \n",
       "\n",
       "   year    model  drive  \n",
       "0  2010     Kuga   full  \n",
       "1  2011  E-Class   rear  \n",
       "2  2008   CL 550   rear  \n",
       "3  2012    B 180  front  \n",
       "4  2013  E-Class    NaN  "
      ]
     },
     "execution_count": 26,
     "metadata": {},
     "output_type": "execute_result"
    }
   ],
   "source": [
    "## # This will print the first n rows of the Dataset \n",
    "carsales_data_prepro.head()"
   ]
  },
  {
   "cell_type": "code",
   "execution_count": 27,
   "id": "5b77dccd-c7ab-491e-a898-1f184bb7065e",
   "metadata": {},
   "outputs": [
    {
     "data": {
      "text/html": [
       "<div>\n",
       "<style scoped>\n",
       "    .dataframe tbody tr th:only-of-type {\n",
       "        vertical-align: middle;\n",
       "    }\n",
       "\n",
       "    .dataframe tbody tr th {\n",
       "        vertical-align: top;\n",
       "    }\n",
       "\n",
       "    .dataframe thead th {\n",
       "        text-align: right;\n",
       "    }\n",
       "</style>\n",
       "<table border=\"1\" class=\"dataframe\">\n",
       "  <thead>\n",
       "    <tr style=\"text-align: right;\">\n",
       "      <th></th>\n",
       "      <th>car</th>\n",
       "      <th>price</th>\n",
       "      <th>body</th>\n",
       "      <th>mileage</th>\n",
       "      <th>engV</th>\n",
       "      <th>engType</th>\n",
       "      <th>registration</th>\n",
       "      <th>year</th>\n",
       "      <th>model</th>\n",
       "      <th>drive</th>\n",
       "    </tr>\n",
       "  </thead>\n",
       "  <tbody>\n",
       "    <tr>\n",
       "      <th>9571</th>\n",
       "      <td>Hyundai</td>\n",
       "      <td>14500.0</td>\n",
       "      <td>crossover</td>\n",
       "      <td>140</td>\n",
       "      <td>2.0</td>\n",
       "      <td>Gas</td>\n",
       "      <td>yes</td>\n",
       "      <td>2011</td>\n",
       "      <td>Tucson</td>\n",
       "      <td>front</td>\n",
       "    </tr>\n",
       "    <tr>\n",
       "      <th>9572</th>\n",
       "      <td>Volkswagen</td>\n",
       "      <td>2200.0</td>\n",
       "      <td>vagon</td>\n",
       "      <td>150</td>\n",
       "      <td>1.6</td>\n",
       "      <td>Petrol</td>\n",
       "      <td>yes</td>\n",
       "      <td>1986</td>\n",
       "      <td>Passat B2</td>\n",
       "      <td>front</td>\n",
       "    </tr>\n",
       "    <tr>\n",
       "      <th>9573</th>\n",
       "      <td>Mercedes-Benz</td>\n",
       "      <td>18500.0</td>\n",
       "      <td>crossover</td>\n",
       "      <td>180</td>\n",
       "      <td>3.5</td>\n",
       "      <td>Petrol</td>\n",
       "      <td>yes</td>\n",
       "      <td>2008</td>\n",
       "      <td>ML 350</td>\n",
       "      <td>full</td>\n",
       "    </tr>\n",
       "    <tr>\n",
       "      <th>9574</th>\n",
       "      <td>Lexus</td>\n",
       "      <td>16999.0</td>\n",
       "      <td>sedan</td>\n",
       "      <td>150</td>\n",
       "      <td>3.5</td>\n",
       "      <td>Gas</td>\n",
       "      <td>yes</td>\n",
       "      <td>2008</td>\n",
       "      <td>ES 350</td>\n",
       "      <td>front</td>\n",
       "    </tr>\n",
       "    <tr>\n",
       "      <th>9575</th>\n",
       "      <td>Audi</td>\n",
       "      <td>22500.0</td>\n",
       "      <td>other</td>\n",
       "      <td>71</td>\n",
       "      <td>3.6</td>\n",
       "      <td>Petrol</td>\n",
       "      <td>yes</td>\n",
       "      <td>2007</td>\n",
       "      <td>Q7</td>\n",
       "      <td>full</td>\n",
       "    </tr>\n",
       "  </tbody>\n",
       "</table>\n",
       "</div>"
      ],
      "text/plain": [
       "                car    price       body  mileage  engV engType registration  \\\n",
       "9571        Hyundai  14500.0  crossover      140   2.0     Gas          yes   \n",
       "9572     Volkswagen   2200.0      vagon      150   1.6  Petrol          yes   \n",
       "9573  Mercedes-Benz  18500.0  crossover      180   3.5  Petrol          yes   \n",
       "9574          Lexus  16999.0      sedan      150   3.5     Gas          yes   \n",
       "9575           Audi  22500.0      other       71   3.6  Petrol          yes   \n",
       "\n",
       "      year      model  drive  \n",
       "9571  2011     Tucson  front  \n",
       "9572  1986  Passat B2  front  \n",
       "9573  2008     ML 350   full  \n",
       "9574  2008     ES 350  front  \n",
       "9575  2007         Q7   full  "
      ]
     },
     "execution_count": 27,
     "metadata": {},
     "output_type": "execute_result"
    }
   ],
   "source": [
    "# This will print the last n rows of the Dataset\n",
    "carsales_data_prepro.tail()"
   ]
  },
  {
   "cell_type": "code",
   "execution_count": 28,
   "id": "01076be3-409c-4114-a83e-ab9d181eed89",
   "metadata": {},
   "outputs": [
    {
     "name": "stdout",
     "output_type": "stream",
     "text": [
      "              Total         %\n",
      "car               0  0.000000\n",
      "price             0  0.000000\n",
      "body              0  0.000000\n",
      "mileage           0  0.000000\n",
      "engV            434  4.532164\n",
      "engType           0  0.000000\n",
      "registration      0  0.000000\n",
      "year              0  0.000000\n",
      "model             0  0.000000\n",
      "drive           511  5.336257\n"
     ]
    }
   ],
   "source": [
    "## This will print the missing value parcentage from every column. \n",
    "missing1 = carsales_data_prepro.isnull().sum()\n",
    "missing = (carsales_data_prepro.isnull().sum()/len(carsales_data_prepro))*100\n",
    "miss_data = pd.concat([missing1,missing],axis=1, keys=['Total', '%'])\n",
    "print(miss_data)"
   ]
  },
  {
   "cell_type": "code",
   "execution_count": 29,
   "id": "0ed0ccb6-aacd-4d27-b969-edf445c9c584",
   "metadata": {},
   "outputs": [
    {
     "data": {
      "text/plain": [
       "113"
      ]
     },
     "execution_count": 29,
     "metadata": {},
     "output_type": "execute_result"
    }
   ],
   "source": [
    "# This will return us total duplicate rows from data frame \n",
    "carsales_data_prepro.duplicated().sum()"
   ]
  },
  {
   "cell_type": "markdown",
   "id": "dfeea325-1495-4fce-9a49-ddd618b361ec",
   "metadata": {},
   "source": [
    "113 Rows are duplicate in data frame ."
   ]
  },
  {
   "cell_type": "code",
   "execution_count": 30,
   "id": "9d4c5906-c786-4520-a7bc-a26ffb3830ad",
   "metadata": {},
   "outputs": [
    {
     "data": {
      "text/html": [
       "<div>\n",
       "<style scoped>\n",
       "    .dataframe tbody tr th:only-of-type {\n",
       "        vertical-align: middle;\n",
       "    }\n",
       "\n",
       "    .dataframe tbody tr th {\n",
       "        vertical-align: top;\n",
       "    }\n",
       "\n",
       "    .dataframe thead th {\n",
       "        text-align: right;\n",
       "    }\n",
       "</style>\n",
       "<table border=\"1\" class=\"dataframe\">\n",
       "  <thead>\n",
       "    <tr style=\"text-align: right;\">\n",
       "      <th></th>\n",
       "      <th>car</th>\n",
       "      <th>price</th>\n",
       "      <th>body</th>\n",
       "      <th>mileage</th>\n",
       "      <th>engV</th>\n",
       "      <th>engType</th>\n",
       "      <th>registration</th>\n",
       "      <th>year</th>\n",
       "      <th>model</th>\n",
       "      <th>drive</th>\n",
       "    </tr>\n",
       "  </thead>\n",
       "  <tbody>\n",
       "    <tr>\n",
       "      <th>18</th>\n",
       "      <td>Nissan</td>\n",
       "      <td>16600.0</td>\n",
       "      <td>crossover</td>\n",
       "      <td>83</td>\n",
       "      <td>2.0</td>\n",
       "      <td>Petrol</td>\n",
       "      <td>yes</td>\n",
       "      <td>2013</td>\n",
       "      <td>X-Trail</td>\n",
       "      <td>full</td>\n",
       "    </tr>\n",
       "    <tr>\n",
       "      <th>42</th>\n",
       "      <td>Mercedes-Benz</td>\n",
       "      <td>20400.0</td>\n",
       "      <td>sedan</td>\n",
       "      <td>190</td>\n",
       "      <td>1.8</td>\n",
       "      <td>Gas</td>\n",
       "      <td>yes</td>\n",
       "      <td>2011</td>\n",
       "      <td>E-Class</td>\n",
       "      <td>rear</td>\n",
       "    </tr>\n",
       "    <tr>\n",
       "      <th>70</th>\n",
       "      <td>Mercedes-Benz</td>\n",
       "      <td>0.0</td>\n",
       "      <td>crossover</td>\n",
       "      <td>0</td>\n",
       "      <td>3.0</td>\n",
       "      <td>Diesel</td>\n",
       "      <td>yes</td>\n",
       "      <td>2016</td>\n",
       "      <td>GLE-Class</td>\n",
       "      <td>full</td>\n",
       "    </tr>\n",
       "    <tr>\n",
       "      <th>86</th>\n",
       "      <td>Toyota</td>\n",
       "      <td>103999.0</td>\n",
       "      <td>crossover</td>\n",
       "      <td>0</td>\n",
       "      <td>4.5</td>\n",
       "      <td>Diesel</td>\n",
       "      <td>yes</td>\n",
       "      <td>2016</td>\n",
       "      <td>Land Cruiser 200</td>\n",
       "      <td>full</td>\n",
       "    </tr>\n",
       "    <tr>\n",
       "      <th>98</th>\n",
       "      <td>Mercedes-Benz</td>\n",
       "      <td>20400.0</td>\n",
       "      <td>sedan</td>\n",
       "      <td>190</td>\n",
       "      <td>1.8</td>\n",
       "      <td>Gas</td>\n",
       "      <td>yes</td>\n",
       "      <td>2011</td>\n",
       "      <td>E-Class</td>\n",
       "      <td>rear</td>\n",
       "    </tr>\n",
       "    <tr>\n",
       "      <th>...</th>\n",
       "      <td>...</td>\n",
       "      <td>...</td>\n",
       "      <td>...</td>\n",
       "      <td>...</td>\n",
       "      <td>...</td>\n",
       "      <td>...</td>\n",
       "      <td>...</td>\n",
       "      <td>...</td>\n",
       "      <td>...</td>\n",
       "      <td>...</td>\n",
       "    </tr>\n",
       "    <tr>\n",
       "      <th>9156</th>\n",
       "      <td>Volkswagen</td>\n",
       "      <td>15700.0</td>\n",
       "      <td>sedan</td>\n",
       "      <td>110</td>\n",
       "      <td>1.8</td>\n",
       "      <td>Petrol</td>\n",
       "      <td>yes</td>\n",
       "      <td>2011</td>\n",
       "      <td>Passat B7</td>\n",
       "      <td>front</td>\n",
       "    </tr>\n",
       "    <tr>\n",
       "      <th>9163</th>\n",
       "      <td>Mercedes-Benz</td>\n",
       "      <td>20500.0</td>\n",
       "      <td>sedan</td>\n",
       "      <td>222</td>\n",
       "      <td>5.5</td>\n",
       "      <td>Petrol</td>\n",
       "      <td>yes</td>\n",
       "      <td>2006</td>\n",
       "      <td>S 500</td>\n",
       "      <td>rear</td>\n",
       "    </tr>\n",
       "    <tr>\n",
       "      <th>9164</th>\n",
       "      <td>VAZ</td>\n",
       "      <td>3900.0</td>\n",
       "      <td>hatch</td>\n",
       "      <td>121</td>\n",
       "      <td>1.4</td>\n",
       "      <td>Petrol</td>\n",
       "      <td>yes</td>\n",
       "      <td>2008</td>\n",
       "      <td>1119</td>\n",
       "      <td>front</td>\n",
       "    </tr>\n",
       "    <tr>\n",
       "      <th>9169</th>\n",
       "      <td>Hyundai</td>\n",
       "      <td>12900.0</td>\n",
       "      <td>crossover</td>\n",
       "      <td>49</td>\n",
       "      <td>2.7</td>\n",
       "      <td>Petrol</td>\n",
       "      <td>yes</td>\n",
       "      <td>2008</td>\n",
       "      <td>Tucson</td>\n",
       "      <td>full</td>\n",
       "    </tr>\n",
       "    <tr>\n",
       "      <th>9477</th>\n",
       "      <td>BMW</td>\n",
       "      <td>77777.0</td>\n",
       "      <td>sedan</td>\n",
       "      <td>8</td>\n",
       "      <td>4.4</td>\n",
       "      <td>Petrol</td>\n",
       "      <td>yes</td>\n",
       "      <td>2014</td>\n",
       "      <td>750</td>\n",
       "      <td>full</td>\n",
       "    </tr>\n",
       "  </tbody>\n",
       "</table>\n",
       "<p>113 rows × 10 columns</p>\n",
       "</div>"
      ],
      "text/plain": [
       "                car     price       body  mileage  engV engType registration  \\\n",
       "18           Nissan   16600.0  crossover       83   2.0  Petrol          yes   \n",
       "42    Mercedes-Benz   20400.0      sedan      190   1.8     Gas          yes   \n",
       "70    Mercedes-Benz       0.0  crossover        0   3.0  Diesel          yes   \n",
       "86           Toyota  103999.0  crossover        0   4.5  Diesel          yes   \n",
       "98    Mercedes-Benz   20400.0      sedan      190   1.8     Gas          yes   \n",
       "...             ...       ...        ...      ...   ...     ...          ...   \n",
       "9156     Volkswagen   15700.0      sedan      110   1.8  Petrol          yes   \n",
       "9163  Mercedes-Benz   20500.0      sedan      222   5.5  Petrol          yes   \n",
       "9164            VAZ    3900.0      hatch      121   1.4  Petrol          yes   \n",
       "9169        Hyundai   12900.0  crossover       49   2.7  Petrol          yes   \n",
       "9477            BMW   77777.0      sedan        8   4.4  Petrol          yes   \n",
       "\n",
       "      year             model  drive  \n",
       "18    2013           X-Trail   full  \n",
       "42    2011           E-Class   rear  \n",
       "70    2016         GLE-Class   full  \n",
       "86    2016  Land Cruiser 200   full  \n",
       "98    2011           E-Class   rear  \n",
       "...    ...               ...    ...  \n",
       "9156  2011         Passat B7  front  \n",
       "9163  2006             S 500   rear  \n",
       "9164  2008              1119  front  \n",
       "9169  2008            Tucson   full  \n",
       "9477  2014               750   full  \n",
       "\n",
       "[113 rows x 10 columns]"
      ]
     },
     "execution_count": 30,
     "metadata": {},
     "output_type": "execute_result"
    }
   ],
   "source": [
    "## This will return us duplicate rows from data\n",
    "carsales_data_prepro.loc[carsales_data_prepro.duplicated(), :]       #.head() for viem n numbers of rows"
   ]
  },
  {
   "cell_type": "code",
   "execution_count": 31,
   "id": "e34423f4-dd82-41f8-a45a-8a2ca32273f6",
   "metadata": {},
   "outputs": [],
   "source": [
    "## Droping duplicates rows from data frame\n",
    "carsales_data_prepro.drop_duplicates(inplace=True)"
   ]
  },
  {
   "cell_type": "code",
   "execution_count": 32,
   "id": "2522f44e-ab2d-41f3-be05-d905f0e34dcb",
   "metadata": {},
   "outputs": [
    {
     "data": {
      "text/html": [
       "<div>\n",
       "<style scoped>\n",
       "    .dataframe tbody tr th:only-of-type {\n",
       "        vertical-align: middle;\n",
       "    }\n",
       "\n",
       "    .dataframe tbody tr th {\n",
       "        vertical-align: top;\n",
       "    }\n",
       "\n",
       "    .dataframe thead th {\n",
       "        text-align: right;\n",
       "    }\n",
       "</style>\n",
       "<table border=\"1\" class=\"dataframe\">\n",
       "  <thead>\n",
       "    <tr style=\"text-align: right;\">\n",
       "      <th></th>\n",
       "      <th>car</th>\n",
       "      <th>price</th>\n",
       "      <th>body</th>\n",
       "      <th>mileage</th>\n",
       "      <th>engV</th>\n",
       "      <th>engType</th>\n",
       "      <th>registration</th>\n",
       "      <th>year</th>\n",
       "      <th>model</th>\n",
       "      <th>drive</th>\n",
       "    </tr>\n",
       "  </thead>\n",
       "  <tbody>\n",
       "  </tbody>\n",
       "</table>\n",
       "</div>"
      ],
      "text/plain": [
       "Empty DataFrame\n",
       "Columns: [car, price, body, mileage, engV, engType, registration, year, model, drive]\n",
       "Index: []"
      ]
     },
     "execution_count": 32,
     "metadata": {},
     "output_type": "execute_result"
    }
   ],
   "source": [
    "## checking for duplicates rows from datasets.\n",
    "carsales_data_prepro.loc[carsales_data.duplicated(), :]"
   ]
  },
  {
   "cell_type": "code",
   "execution_count": 33,
   "id": "17222ac0-d42f-4c18-94fe-345b6f34f087",
   "metadata": {},
   "outputs": [
    {
     "data": {
      "text/html": [
       "<div>\n",
       "<style scoped>\n",
       "    .dataframe tbody tr th:only-of-type {\n",
       "        vertical-align: middle;\n",
       "    }\n",
       "\n",
       "    .dataframe tbody tr th {\n",
       "        vertical-align: top;\n",
       "    }\n",
       "\n",
       "    .dataframe thead th {\n",
       "        text-align: right;\n",
       "    }\n",
       "</style>\n",
       "<table border=\"1\" class=\"dataframe\">\n",
       "  <thead>\n",
       "    <tr style=\"text-align: right;\">\n",
       "      <th></th>\n",
       "      <th>car</th>\n",
       "      <th>price</th>\n",
       "      <th>body</th>\n",
       "      <th>mileage</th>\n",
       "      <th>engV</th>\n",
       "      <th>engType</th>\n",
       "      <th>registration</th>\n",
       "      <th>year</th>\n",
       "      <th>model</th>\n",
       "      <th>drive</th>\n",
       "    </tr>\n",
       "  </thead>\n",
       "  <tbody>\n",
       "    <tr>\n",
       "      <th>0</th>\n",
       "      <td>Ford</td>\n",
       "      <td>15500.0</td>\n",
       "      <td>crossover</td>\n",
       "      <td>68</td>\n",
       "      <td>2.5</td>\n",
       "      <td>Gas</td>\n",
       "      <td>yes</td>\n",
       "      <td>2010</td>\n",
       "      <td>Kuga</td>\n",
       "      <td>full</td>\n",
       "    </tr>\n",
       "    <tr>\n",
       "      <th>1</th>\n",
       "      <td>Mercedes-Benz</td>\n",
       "      <td>20500.0</td>\n",
       "      <td>sedan</td>\n",
       "      <td>173</td>\n",
       "      <td>1.8</td>\n",
       "      <td>Gas</td>\n",
       "      <td>yes</td>\n",
       "      <td>2011</td>\n",
       "      <td>E-Class</td>\n",
       "      <td>rear</td>\n",
       "    </tr>\n",
       "    <tr>\n",
       "      <th>2</th>\n",
       "      <td>Mercedes-Benz</td>\n",
       "      <td>35000.0</td>\n",
       "      <td>other</td>\n",
       "      <td>135</td>\n",
       "      <td>5.5</td>\n",
       "      <td>Petrol</td>\n",
       "      <td>yes</td>\n",
       "      <td>2008</td>\n",
       "      <td>CL 550</td>\n",
       "      <td>rear</td>\n",
       "    </tr>\n",
       "    <tr>\n",
       "      <th>3</th>\n",
       "      <td>Mercedes-Benz</td>\n",
       "      <td>17800.0</td>\n",
       "      <td>van</td>\n",
       "      <td>162</td>\n",
       "      <td>1.8</td>\n",
       "      <td>Diesel</td>\n",
       "      <td>yes</td>\n",
       "      <td>2012</td>\n",
       "      <td>B 180</td>\n",
       "      <td>front</td>\n",
       "    </tr>\n",
       "    <tr>\n",
       "      <th>4</th>\n",
       "      <td>Mercedes-Benz</td>\n",
       "      <td>33000.0</td>\n",
       "      <td>vagon</td>\n",
       "      <td>91</td>\n",
       "      <td>NaN</td>\n",
       "      <td>Other</td>\n",
       "      <td>yes</td>\n",
       "      <td>2013</td>\n",
       "      <td>E-Class</td>\n",
       "      <td>NaN</td>\n",
       "    </tr>\n",
       "    <tr>\n",
       "      <th>...</th>\n",
       "      <td>...</td>\n",
       "      <td>...</td>\n",
       "      <td>...</td>\n",
       "      <td>...</td>\n",
       "      <td>...</td>\n",
       "      <td>...</td>\n",
       "      <td>...</td>\n",
       "      <td>...</td>\n",
       "      <td>...</td>\n",
       "      <td>...</td>\n",
       "    </tr>\n",
       "    <tr>\n",
       "      <th>9571</th>\n",
       "      <td>Hyundai</td>\n",
       "      <td>14500.0</td>\n",
       "      <td>crossover</td>\n",
       "      <td>140</td>\n",
       "      <td>2.0</td>\n",
       "      <td>Gas</td>\n",
       "      <td>yes</td>\n",
       "      <td>2011</td>\n",
       "      <td>Tucson</td>\n",
       "      <td>front</td>\n",
       "    </tr>\n",
       "    <tr>\n",
       "      <th>9572</th>\n",
       "      <td>Volkswagen</td>\n",
       "      <td>2200.0</td>\n",
       "      <td>vagon</td>\n",
       "      <td>150</td>\n",
       "      <td>1.6</td>\n",
       "      <td>Petrol</td>\n",
       "      <td>yes</td>\n",
       "      <td>1986</td>\n",
       "      <td>Passat B2</td>\n",
       "      <td>front</td>\n",
       "    </tr>\n",
       "    <tr>\n",
       "      <th>9573</th>\n",
       "      <td>Mercedes-Benz</td>\n",
       "      <td>18500.0</td>\n",
       "      <td>crossover</td>\n",
       "      <td>180</td>\n",
       "      <td>3.5</td>\n",
       "      <td>Petrol</td>\n",
       "      <td>yes</td>\n",
       "      <td>2008</td>\n",
       "      <td>ML 350</td>\n",
       "      <td>full</td>\n",
       "    </tr>\n",
       "    <tr>\n",
       "      <th>9574</th>\n",
       "      <td>Lexus</td>\n",
       "      <td>16999.0</td>\n",
       "      <td>sedan</td>\n",
       "      <td>150</td>\n",
       "      <td>3.5</td>\n",
       "      <td>Gas</td>\n",
       "      <td>yes</td>\n",
       "      <td>2008</td>\n",
       "      <td>ES 350</td>\n",
       "      <td>front</td>\n",
       "    </tr>\n",
       "    <tr>\n",
       "      <th>9575</th>\n",
       "      <td>Audi</td>\n",
       "      <td>22500.0</td>\n",
       "      <td>other</td>\n",
       "      <td>71</td>\n",
       "      <td>3.6</td>\n",
       "      <td>Petrol</td>\n",
       "      <td>yes</td>\n",
       "      <td>2007</td>\n",
       "      <td>Q7</td>\n",
       "      <td>full</td>\n",
       "    </tr>\n",
       "  </tbody>\n",
       "</table>\n",
       "<p>9463 rows × 10 columns</p>\n",
       "</div>"
      ],
      "text/plain": [
       "                car    price       body  mileage  engV engType registration  \\\n",
       "0              Ford  15500.0  crossover       68   2.5     Gas          yes   \n",
       "1     Mercedes-Benz  20500.0      sedan      173   1.8     Gas          yes   \n",
       "2     Mercedes-Benz  35000.0      other      135   5.5  Petrol          yes   \n",
       "3     Mercedes-Benz  17800.0        van      162   1.8  Diesel          yes   \n",
       "4     Mercedes-Benz  33000.0      vagon       91   NaN   Other          yes   \n",
       "...             ...      ...        ...      ...   ...     ...          ...   \n",
       "9571        Hyundai  14500.0  crossover      140   2.0     Gas          yes   \n",
       "9572     Volkswagen   2200.0      vagon      150   1.6  Petrol          yes   \n",
       "9573  Mercedes-Benz  18500.0  crossover      180   3.5  Petrol          yes   \n",
       "9574          Lexus  16999.0      sedan      150   3.5     Gas          yes   \n",
       "9575           Audi  22500.0      other       71   3.6  Petrol          yes   \n",
       "\n",
       "      year      model  drive  \n",
       "0     2010       Kuga   full  \n",
       "1     2011    E-Class   rear  \n",
       "2     2008     CL 550   rear  \n",
       "3     2012      B 180  front  \n",
       "4     2013    E-Class    NaN  \n",
       "...    ...        ...    ...  \n",
       "9571  2011     Tucson  front  \n",
       "9572  1986  Passat B2  front  \n",
       "9573  2008     ML 350   full  \n",
       "9574  2008     ES 350  front  \n",
       "9575  2007         Q7   full  \n",
       "\n",
       "[9463 rows x 10 columns]"
      ]
     },
     "execution_count": 33,
     "metadata": {},
     "output_type": "execute_result"
    }
   ],
   "source": [
    "# Viewing Data Frame\n",
    "carsales_data_prepro"
   ]
  },
  {
   "cell_type": "code",
   "execution_count": 34,
   "id": "cc1d4e3f-7e1c-4540-9a03-e9f74e299e09",
   "metadata": {},
   "outputs": [
    {
     "data": {
      "text/plain": [
       "0    front\n",
       "Name: drive, dtype: object"
      ]
     },
     "execution_count": 34,
     "metadata": {},
     "output_type": "execute_result"
    }
   ],
   "source": [
    "# This will return mode of Drive\n",
    "b = carsales_data_prepro[\"drive\"].mode()\n",
    "b"
   ]
  },
  {
   "cell_type": "code",
   "execution_count": 35,
   "id": "52e2efb3-5a48-479b-9c28-30e7594cdbc4",
   "metadata": {},
   "outputs": [
    {
     "data": {
      "text/plain": [
       "car               0\n",
       "price             0\n",
       "body              0\n",
       "mileage           0\n",
       "engV            434\n",
       "engType           0\n",
       "registration      0\n",
       "year              0\n",
       "model             0\n",
       "drive             0\n",
       "dtype: int64"
      ]
     },
     "execution_count": 35,
     "metadata": {},
     "output_type": "execute_result"
    }
   ],
   "source": [
    "# this will fill null value of drive fill na.\n",
    "carsales_data_prepro[\"drive\"]=carsales_data_prepro[\"drive\"].fillna(\"front\")\n",
    "carsales_data_prepro.isnull().sum()"
   ]
  },
  {
   "cell_type": "code",
   "execution_count": 36,
   "id": "b827903c-583c-489a-bc3b-64cacb38d90b",
   "metadata": {},
   "outputs": [
    {
     "name": "stdout",
     "output_type": "stream",
     "text": [
      "0\n"
     ]
    }
   ],
   "source": [
    "## this will return us duplicate rows . \n",
    "print(carsales_data_prepro.duplicated().sum())"
   ]
  },
  {
   "cell_type": "code",
   "execution_count": 37,
   "id": "fcd6cae7-8824-4429-b454-d054ced5959e",
   "metadata": {},
   "outputs": [
    {
     "data": {
      "text/html": [
       "<div>\n",
       "<style scoped>\n",
       "    .dataframe tbody tr th:only-of-type {\n",
       "        vertical-align: middle;\n",
       "    }\n",
       "\n",
       "    .dataframe tbody tr th {\n",
       "        vertical-align: top;\n",
       "    }\n",
       "\n",
       "    .dataframe thead th {\n",
       "        text-align: right;\n",
       "    }\n",
       "</style>\n",
       "<table border=\"1\" class=\"dataframe\">\n",
       "  <thead>\n",
       "    <tr style=\"text-align: right;\">\n",
       "      <th></th>\n",
       "      <th>car</th>\n",
       "      <th>price</th>\n",
       "      <th>body</th>\n",
       "      <th>mileage</th>\n",
       "      <th>engV</th>\n",
       "      <th>engType</th>\n",
       "      <th>registration</th>\n",
       "      <th>year</th>\n",
       "      <th>model</th>\n",
       "      <th>drive</th>\n",
       "    </tr>\n",
       "  </thead>\n",
       "  <tbody>\n",
       "  </tbody>\n",
       "</table>\n",
       "</div>"
      ],
      "text/plain": [
       "Empty DataFrame\n",
       "Columns: [car, price, body, mileage, engV, engType, registration, year, model, drive]\n",
       "Index: []"
      ]
     },
     "execution_count": 37,
     "metadata": {},
     "output_type": "execute_result"
    }
   ],
   "source": [
    "# This will keep duplicate values.\n",
    "carsales_data.loc[carsales_data.duplicated(keep=False), :]"
   ]
  },
  {
   "cell_type": "markdown",
   "id": "85a4952e-6477-401b-adb7-a837ecbed716",
   "metadata": {},
   "source": [
    "Duplicate entries are removed now."
   ]
  },
  {
   "cell_type": "markdown",
   "id": "c86163eb-d2d6-473d-9f98-fc565381f6e2",
   "metadata": {},
   "source": [
    ".Dealing with missing values\n",
    "    \n",
    "    .434 missing entries of engV. Replace it with median value of engV from the same Car and body group of cars.\n",
    "    \n",
    "    .511 missing entries of drive. Replace it with most common value of drive from the same Car and body group of cars.\n",
    "    \n",
    "    .Drop entries having price is 0 or less than 0.\n",
    "    \n",
    "    .CarSales_Data_copy.groupby(['car', 'body'])['engV']"
   ]
  },
  {
   "cell_type": "code",
   "execution_count": 38,
   "id": "99fc7d1d-7a8b-493c-84fa-cd43313760bf",
   "metadata": {},
   "outputs": [
    {
     "data": {
      "text/plain": [
       "0        2.5\n",
       "1        1.8\n",
       "2        5.5\n",
       "3        1.8\n",
       "4        NaN\n",
       "        ... \n",
       "9499     3.7\n",
       "9501     1.2\n",
       "9508    19.0\n",
       "9539     1.5\n",
       "9566     NaN\n",
       "Name: engV, Length: 1018, dtype: float64"
      ]
     },
     "execution_count": 38,
     "metadata": {},
     "output_type": "execute_result"
    }
   ],
   "source": [
    "# using group by in car and body type for engV columns NAN values.\n",
    "carsales_data_prepro.groupby(['car','body'])['engV'].head()"
   ]
  },
  {
   "cell_type": "code",
   "execution_count": 39,
   "id": "a8b8ee15-c2a9-42ec-a8a6-e5f35931a709",
   "metadata": {},
   "outputs": [],
   "source": [
    "# this will return us engV columns median value fill it in every NAN values on engV columns\n",
    "carsales_data_prepro['engV'] = carsales_data_prepro.groupby(['car', 'body'])['engV'].transform(lambda x: x.fillna(x.median()))"
   ]
  },
  {
   "cell_type": "markdown",
   "id": "5bbb8be6-b1b8-4658-84ad-510ce907d84d",
   "metadata": {},
   "source": [
    "Now let's check if the missing values of engV has been replaced."
   ]
  },
  {
   "cell_type": "code",
   "execution_count": 40,
   "id": "0d021a7a-648b-4264-b1d0-711494e43d98",
   "metadata": {},
   "outputs": [
    {
     "data": {
      "text/plain": [
       "car              0\n",
       "price            0\n",
       "body             0\n",
       "mileage          0\n",
       "engV            10\n",
       "engType          0\n",
       "registration     0\n",
       "year             0\n",
       "model            0\n",
       "drive            0\n",
       "dtype: int64"
      ]
     },
     "execution_count": 40,
     "metadata": {},
     "output_type": "execute_result"
    }
   ],
   "source": [
    "# This will return us null values of every columns.\n",
    "carsales_data_prepro.isnull().sum()"
   ]
  },
  {
   "cell_type": "markdown",
   "id": "c1c471a5-c35d-4426-81a2-15bfb48e9ee9",
   "metadata": {},
   "source": [
    "424 missing values of engV has been replaced however, still 10 entries are left as missing. Let's see the missing value data."
   ]
  },
  {
   "cell_type": "code",
   "execution_count": 41,
   "id": "4ae77620-14e8-4198-87d7-ec729d3516f9",
   "metadata": {},
   "outputs": [
    {
     "data": {
      "text/html": [
       "<div>\n",
       "<style scoped>\n",
       "    .dataframe tbody tr th:only-of-type {\n",
       "        vertical-align: middle;\n",
       "    }\n",
       "\n",
       "    .dataframe tbody tr th {\n",
       "        vertical-align: top;\n",
       "    }\n",
       "\n",
       "    .dataframe thead th {\n",
       "        text-align: right;\n",
       "    }\n",
       "</style>\n",
       "<table border=\"1\" class=\"dataframe\">\n",
       "  <thead>\n",
       "    <tr style=\"text-align: right;\">\n",
       "      <th></th>\n",
       "      <th>car</th>\n",
       "      <th>price</th>\n",
       "      <th>body</th>\n",
       "      <th>mileage</th>\n",
       "      <th>engV</th>\n",
       "      <th>engType</th>\n",
       "      <th>registration</th>\n",
       "      <th>year</th>\n",
       "      <th>model</th>\n",
       "      <th>drive</th>\n",
       "    </tr>\n",
       "  </thead>\n",
       "  <tbody>\n",
       "    <tr>\n",
       "      <th>319</th>\n",
       "      <td>Tesla</td>\n",
       "      <td>58000.0</td>\n",
       "      <td>hatch</td>\n",
       "      <td>52</td>\n",
       "      <td>NaN</td>\n",
       "      <td>Other</td>\n",
       "      <td>yes</td>\n",
       "      <td>2013</td>\n",
       "      <td>Model S</td>\n",
       "      <td>front</td>\n",
       "    </tr>\n",
       "    <tr>\n",
       "      <th>1437</th>\n",
       "      <td>Tesla</td>\n",
       "      <td>178500.0</td>\n",
       "      <td>crossover</td>\n",
       "      <td>0</td>\n",
       "      <td>NaN</td>\n",
       "      <td>Other</td>\n",
       "      <td>yes</td>\n",
       "      <td>2016</td>\n",
       "      <td>Model X</td>\n",
       "      <td>full</td>\n",
       "    </tr>\n",
       "    <tr>\n",
       "      <th>2486</th>\n",
       "      <td>Tesla</td>\n",
       "      <td>185000.0</td>\n",
       "      <td>crossover</td>\n",
       "      <td>1</td>\n",
       "      <td>NaN</td>\n",
       "      <td>Other</td>\n",
       "      <td>yes</td>\n",
       "      <td>2016</td>\n",
       "      <td>Model X</td>\n",
       "      <td>full</td>\n",
       "    </tr>\n",
       "    <tr>\n",
       "      <th>5084</th>\n",
       "      <td>GAZ</td>\n",
       "      <td>0.0</td>\n",
       "      <td>crossover</td>\n",
       "      <td>1</td>\n",
       "      <td>NaN</td>\n",
       "      <td>Petrol</td>\n",
       "      <td>yes</td>\n",
       "      <td>1963</td>\n",
       "      <td>69</td>\n",
       "      <td>full</td>\n",
       "    </tr>\n",
       "    <tr>\n",
       "      <th>6773</th>\n",
       "      <td>UAZ</td>\n",
       "      <td>3000.0</td>\n",
       "      <td>other</td>\n",
       "      <td>1</td>\n",
       "      <td>NaN</td>\n",
       "      <td>Other</td>\n",
       "      <td>yes</td>\n",
       "      <td>1985</td>\n",
       "      <td>3303</td>\n",
       "      <td>full</td>\n",
       "    </tr>\n",
       "    <tr>\n",
       "      <th>8569</th>\n",
       "      <td>Tesla</td>\n",
       "      <td>176900.0</td>\n",
       "      <td>crossover</td>\n",
       "      <td>0</td>\n",
       "      <td>NaN</td>\n",
       "      <td>Other</td>\n",
       "      <td>yes</td>\n",
       "      <td>2016</td>\n",
       "      <td>Model X</td>\n",
       "      <td>full</td>\n",
       "    </tr>\n",
       "    <tr>\n",
       "      <th>8824</th>\n",
       "      <td>Fisker</td>\n",
       "      <td>0.0</td>\n",
       "      <td>other</td>\n",
       "      <td>100</td>\n",
       "      <td>NaN</td>\n",
       "      <td>Other</td>\n",
       "      <td>yes</td>\n",
       "      <td>2001</td>\n",
       "      <td>Karma</td>\n",
       "      <td>front</td>\n",
       "    </tr>\n",
       "    <tr>\n",
       "      <th>8905</th>\n",
       "      <td>Changan</td>\n",
       "      <td>6028.0</td>\n",
       "      <td>crossover</td>\n",
       "      <td>101</td>\n",
       "      <td>NaN</td>\n",
       "      <td>Other</td>\n",
       "      <td>yes</td>\n",
       "      <td>2005</td>\n",
       "      <td>Ideal</td>\n",
       "      <td>front</td>\n",
       "    </tr>\n",
       "    <tr>\n",
       "      <th>9360</th>\n",
       "      <td>Barkas</td>\n",
       "      <td>5500.0</td>\n",
       "      <td>van</td>\n",
       "      <td>80</td>\n",
       "      <td>NaN</td>\n",
       "      <td>Petrol</td>\n",
       "      <td>yes</td>\n",
       "      <td>2015</td>\n",
       "      <td>B1000</td>\n",
       "      <td>front</td>\n",
       "    </tr>\n",
       "    <tr>\n",
       "      <th>9566</th>\n",
       "      <td>UAZ</td>\n",
       "      <td>850.0</td>\n",
       "      <td>van</td>\n",
       "      <td>255</td>\n",
       "      <td>NaN</td>\n",
       "      <td>Other</td>\n",
       "      <td>yes</td>\n",
       "      <td>1981</td>\n",
       "      <td>3962</td>\n",
       "      <td>front</td>\n",
       "    </tr>\n",
       "  </tbody>\n",
       "</table>\n",
       "</div>"
      ],
      "text/plain": [
       "          car     price       body  mileage  engV engType registration  year  \\\n",
       "319     Tesla   58000.0      hatch       52   NaN   Other          yes  2013   \n",
       "1437    Tesla  178500.0  crossover        0   NaN   Other          yes  2016   \n",
       "2486    Tesla  185000.0  crossover        1   NaN   Other          yes  2016   \n",
       "5084      GAZ       0.0  crossover        1   NaN  Petrol          yes  1963   \n",
       "6773      UAZ    3000.0      other        1   NaN   Other          yes  1985   \n",
       "8569    Tesla  176900.0  crossover        0   NaN   Other          yes  2016   \n",
       "8824   Fisker       0.0      other      100   NaN   Other          yes  2001   \n",
       "8905  Changan    6028.0  crossover      101   NaN   Other          yes  2005   \n",
       "9360   Barkas    5500.0        van       80   NaN  Petrol          yes  2015   \n",
       "9566      UAZ     850.0        van      255   NaN   Other          yes  1981   \n",
       "\n",
       "        model  drive  \n",
       "319   Model S  front  \n",
       "1437  Model X   full  \n",
       "2486  Model X   full  \n",
       "5084       69   full  \n",
       "6773     3303   full  \n",
       "8569  Model X   full  \n",
       "8824    Karma  front  \n",
       "8905    Ideal  front  \n",
       "9360    B1000  front  \n",
       "9566     3962  front  "
      ]
     },
     "execution_count": 41,
     "metadata": {},
     "output_type": "execute_result"
    }
   ],
   "source": [
    "# This will return us which 10 value is null engV  column.\n",
    "carsales_data_prepro[carsales_data_prepro.engV.isnull()]"
   ]
  },
  {
   "cell_type": "markdown",
   "id": "c13d1850-63dc-4609-90fe-9e319084665c",
   "metadata": {},
   "source": [
    "Replacing NaN values of drive with most common values of drive from Car and body group."
   ]
  },
  {
   "cell_type": "code",
   "execution_count": 42,
   "id": "1977909c-2288-4aab-8e47-8b36dd40f450",
   "metadata": {},
   "outputs": [],
   "source": [
    "#Creating a function for filling drive null values \n",
    "def f(x):\n",
    "    if x.count()<=0:\n",
    "        return np.nan\n",
    "    return x.value_counts().index[0]\n",
    "\n",
    "carsales_data_prepro['drive'] = carsales_data_prepro['drive'].fillna(carsales_data_prepro.groupby(['car','body'])['drive'].transform(f))\n"
   ]
  },
  {
   "cell_type": "code",
   "execution_count": 43,
   "id": "63e4c41c-76e7-4ae5-89a9-bff26e6c3621",
   "metadata": {},
   "outputs": [
    {
     "data": {
      "text/html": [
       "<div>\n",
       "<style scoped>\n",
       "    .dataframe tbody tr th:only-of-type {\n",
       "        vertical-align: middle;\n",
       "    }\n",
       "\n",
       "    .dataframe tbody tr th {\n",
       "        vertical-align: top;\n",
       "    }\n",
       "\n",
       "    .dataframe thead th {\n",
       "        text-align: right;\n",
       "    }\n",
       "</style>\n",
       "<table border=\"1\" class=\"dataframe\">\n",
       "  <thead>\n",
       "    <tr style=\"text-align: right;\">\n",
       "      <th></th>\n",
       "      <th>car</th>\n",
       "      <th>price</th>\n",
       "      <th>body</th>\n",
       "      <th>mileage</th>\n",
       "      <th>engV</th>\n",
       "      <th>engType</th>\n",
       "      <th>registration</th>\n",
       "      <th>year</th>\n",
       "      <th>model</th>\n",
       "      <th>drive</th>\n",
       "    </tr>\n",
       "  </thead>\n",
       "  <tbody>\n",
       "  </tbody>\n",
       "</table>\n",
       "</div>"
      ],
      "text/plain": [
       "Empty DataFrame\n",
       "Columns: [car, price, body, mileage, engV, engType, registration, year, model, drive]\n",
       "Index: []"
      ]
     },
     "execution_count": 43,
     "metadata": {},
     "output_type": "execute_result"
    }
   ],
   "source": [
    "# finding null values from drive columns\n",
    "carsales_data_prepro[carsales_data_prepro.drive.isnull()]"
   ]
  },
  {
   "cell_type": "markdown",
   "id": "cab98f62-fb8b-402d-a0cb-935449bdbe12",
   "metadata": {},
   "source": [
    "Let's check the count of NaN values of engV and drive."
   ]
  },
  {
   "cell_type": "code",
   "execution_count": 44,
   "id": "be3d308d-a0ab-43ba-b3d1-337cfd866d4e",
   "metadata": {},
   "outputs": [
    {
     "data": {
      "text/plain": [
       "car              0\n",
       "price            0\n",
       "body             0\n",
       "mileage          0\n",
       "engV            10\n",
       "engType          0\n",
       "registration     0\n",
       "year             0\n",
       "model            0\n",
       "drive            0\n",
       "dtype: int64"
      ]
     },
     "execution_count": 44,
     "metadata": {},
     "output_type": "execute_result"
    }
   ],
   "source": [
    "# finding null values from data frame \n",
    "carsales_data_prepro.isnull().sum()"
   ]
  },
  {
   "cell_type": "markdown",
   "id": "66a398e9-3a1b-40f5-80dd-7e122d013969",
   "metadata": {},
   "source": [
    "Dropping remaining NaN values of engV and Drive."
   ]
  },
  {
   "cell_type": "code",
   "execution_count": 45,
   "id": "c859b2e1-6d70-4828-827d-1a2cdb36aab4",
   "metadata": {},
   "outputs": [],
   "source": [
    "# creating a copy of data frame \n",
    "carsales_data_droping = carsales_data_prepro"
   ]
  },
  {
   "cell_type": "code",
   "execution_count": 46,
   "id": "9165d363-1bf1-4ace-8a66-d6438064ca21",
   "metadata": {},
   "outputs": [
    {
     "data": {
      "text/plain": [
       "car             0\n",
       "price           0\n",
       "body            0\n",
       "mileage         0\n",
       "engV            0\n",
       "engType         0\n",
       "registration    0\n",
       "year            0\n",
       "model           0\n",
       "drive           0\n",
       "dtype: int64"
      ]
     },
     "execution_count": 46,
     "metadata": {},
     "output_type": "execute_result"
    }
   ],
   "source": [
    "## droping NAN value from engV columns and drive columns \n",
    "carsales_data_droping.dropna(subset=['engV'],inplace=True)\n",
    "carsales_data_droping.dropna(subset=['drive'],inplace=True)\n",
    "carsales_data_droping.isnull().sum()"
   ]
  },
  {
   "cell_type": "markdown",
   "id": "e97add1d-ec00-4a3f-a259-99a66b74d9ac",
   "metadata": {},
   "source": [
    "Droping entries with price <= 0"
   ]
  },
  {
   "cell_type": "code",
   "execution_count": 47,
   "id": "d54f9007-1b3e-4599-b1ce-728a84f89bed",
   "metadata": {},
   "outputs": [],
   "source": [
    "# droping all values where price <= 0  \n",
    "carsales_data_droping = carsales_data_droping.drop(carsales_data_droping[carsales_data_droping.price <= 0 ].index)"
   ]
  },
  {
   "cell_type": "code",
   "execution_count": 48,
   "id": "27d4604d-2086-4891-b789-c6e3f858d417",
   "metadata": {},
   "outputs": [
    {
     "data": {
      "text/plain": [
       "0"
      ]
     },
     "execution_count": 48,
     "metadata": {},
     "output_type": "execute_result"
    }
   ],
   "source": [
    "# using count function to see price columns has don't have any 0 values\n",
    "carsales_data_droping.price[carsales_data_droping.price == 0].count()"
   ]
  },
  {
   "cell_type": "code",
   "execution_count": 49,
   "id": "4da04dcb-3615-427e-b175-28eff7258cb7",
   "metadata": {},
   "outputs": [],
   "source": [
    "# this replace all milage columns 0 value with mileage column medain values\n",
    "b = carsales_data_droping[\"mileage\"].median()\n",
    "carsales_data_droping[\"mileage\"] = carsales_data_droping[\"mileage\"].replace(0,b)"
   ]
  },
  {
   "cell_type": "code",
   "execution_count": 50,
   "id": "1b4a9389-c5d4-4902-89b5-48a43e6fb6c8",
   "metadata": {},
   "outputs": [
    {
     "data": {
      "text/html": [
       "<div>\n",
       "<style scoped>\n",
       "    .dataframe tbody tr th:only-of-type {\n",
       "        vertical-align: middle;\n",
       "    }\n",
       "\n",
       "    .dataframe tbody tr th {\n",
       "        vertical-align: top;\n",
       "    }\n",
       "\n",
       "    .dataframe thead th {\n",
       "        text-align: right;\n",
       "    }\n",
       "</style>\n",
       "<table border=\"1\" class=\"dataframe\">\n",
       "  <thead>\n",
       "    <tr style=\"text-align: right;\">\n",
       "      <th></th>\n",
       "      <th>car</th>\n",
       "      <th>price</th>\n",
       "      <th>body</th>\n",
       "      <th>mileage</th>\n",
       "      <th>engV</th>\n",
       "      <th>engType</th>\n",
       "      <th>registration</th>\n",
       "      <th>year</th>\n",
       "      <th>model</th>\n",
       "      <th>drive</th>\n",
       "    </tr>\n",
       "  </thead>\n",
       "  <tbody>\n",
       "  </tbody>\n",
       "</table>\n",
       "</div>"
      ],
      "text/plain": [
       "Empty DataFrame\n",
       "Columns: [car, price, body, mileage, engV, engType, registration, year, model, drive]\n",
       "Index: []"
      ]
     },
     "execution_count": 50,
     "metadata": {},
     "output_type": "execute_result"
    }
   ],
   "source": [
    "# this will return us all values where mileage columns has value == 0 \n",
    "carsales_data_droping[carsales_data_droping.mileage == 0]"
   ]
  },
  {
   "cell_type": "code",
   "execution_count": 51,
   "id": "77c6bc36-aded-4871-ac84-798d2079541c",
   "metadata": {},
   "outputs": [
    {
     "data": {
      "text/html": [
       "<div>\n",
       "<style scoped>\n",
       "    .dataframe tbody tr th:only-of-type {\n",
       "        vertical-align: middle;\n",
       "    }\n",
       "\n",
       "    .dataframe tbody tr th {\n",
       "        vertical-align: top;\n",
       "    }\n",
       "\n",
       "    .dataframe thead th {\n",
       "        text-align: right;\n",
       "    }\n",
       "</style>\n",
       "<table border=\"1\" class=\"dataframe\">\n",
       "  <thead>\n",
       "    <tr style=\"text-align: right;\">\n",
       "      <th></th>\n",
       "      <th>car</th>\n",
       "      <th>price</th>\n",
       "      <th>body</th>\n",
       "      <th>mileage</th>\n",
       "      <th>engV</th>\n",
       "      <th>engType</th>\n",
       "      <th>registration</th>\n",
       "      <th>year</th>\n",
       "      <th>model</th>\n",
       "      <th>drive</th>\n",
       "    </tr>\n",
       "  </thead>\n",
       "  <tbody>\n",
       "    <tr>\n",
       "      <th>0</th>\n",
       "      <td>Ford</td>\n",
       "      <td>15500.0</td>\n",
       "      <td>crossover</td>\n",
       "      <td>68</td>\n",
       "      <td>2.5</td>\n",
       "      <td>Gas</td>\n",
       "      <td>yes</td>\n",
       "      <td>2010</td>\n",
       "      <td>Kuga</td>\n",
       "      <td>full</td>\n",
       "    </tr>\n",
       "    <tr>\n",
       "      <th>1</th>\n",
       "      <td>Mercedes-Benz</td>\n",
       "      <td>20500.0</td>\n",
       "      <td>sedan</td>\n",
       "      <td>173</td>\n",
       "      <td>1.8</td>\n",
       "      <td>Gas</td>\n",
       "      <td>yes</td>\n",
       "      <td>2011</td>\n",
       "      <td>E-Class</td>\n",
       "      <td>rear</td>\n",
       "    </tr>\n",
       "    <tr>\n",
       "      <th>2</th>\n",
       "      <td>Mercedes-Benz</td>\n",
       "      <td>35000.0</td>\n",
       "      <td>other</td>\n",
       "      <td>135</td>\n",
       "      <td>5.5</td>\n",
       "      <td>Petrol</td>\n",
       "      <td>yes</td>\n",
       "      <td>2008</td>\n",
       "      <td>CL 550</td>\n",
       "      <td>rear</td>\n",
       "    </tr>\n",
       "    <tr>\n",
       "      <th>3</th>\n",
       "      <td>Mercedes-Benz</td>\n",
       "      <td>17800.0</td>\n",
       "      <td>van</td>\n",
       "      <td>162</td>\n",
       "      <td>1.8</td>\n",
       "      <td>Diesel</td>\n",
       "      <td>yes</td>\n",
       "      <td>2012</td>\n",
       "      <td>B 180</td>\n",
       "      <td>front</td>\n",
       "    </tr>\n",
       "    <tr>\n",
       "      <th>4</th>\n",
       "      <td>Mercedes-Benz</td>\n",
       "      <td>33000.0</td>\n",
       "      <td>vagon</td>\n",
       "      <td>91</td>\n",
       "      <td>2.3</td>\n",
       "      <td>Other</td>\n",
       "      <td>yes</td>\n",
       "      <td>2013</td>\n",
       "      <td>E-Class</td>\n",
       "      <td>front</td>\n",
       "    </tr>\n",
       "    <tr>\n",
       "      <th>...</th>\n",
       "      <td>...</td>\n",
       "      <td>...</td>\n",
       "      <td>...</td>\n",
       "      <td>...</td>\n",
       "      <td>...</td>\n",
       "      <td>...</td>\n",
       "      <td>...</td>\n",
       "      <td>...</td>\n",
       "      <td>...</td>\n",
       "      <td>...</td>\n",
       "    </tr>\n",
       "    <tr>\n",
       "      <th>9571</th>\n",
       "      <td>Hyundai</td>\n",
       "      <td>14500.0</td>\n",
       "      <td>crossover</td>\n",
       "      <td>140</td>\n",
       "      <td>2.0</td>\n",
       "      <td>Gas</td>\n",
       "      <td>yes</td>\n",
       "      <td>2011</td>\n",
       "      <td>Tucson</td>\n",
       "      <td>front</td>\n",
       "    </tr>\n",
       "    <tr>\n",
       "      <th>9572</th>\n",
       "      <td>Volkswagen</td>\n",
       "      <td>2200.0</td>\n",
       "      <td>vagon</td>\n",
       "      <td>150</td>\n",
       "      <td>1.6</td>\n",
       "      <td>Petrol</td>\n",
       "      <td>yes</td>\n",
       "      <td>1986</td>\n",
       "      <td>Passat B2</td>\n",
       "      <td>front</td>\n",
       "    </tr>\n",
       "    <tr>\n",
       "      <th>9573</th>\n",
       "      <td>Mercedes-Benz</td>\n",
       "      <td>18500.0</td>\n",
       "      <td>crossover</td>\n",
       "      <td>180</td>\n",
       "      <td>3.5</td>\n",
       "      <td>Petrol</td>\n",
       "      <td>yes</td>\n",
       "      <td>2008</td>\n",
       "      <td>ML 350</td>\n",
       "      <td>full</td>\n",
       "    </tr>\n",
       "    <tr>\n",
       "      <th>9574</th>\n",
       "      <td>Lexus</td>\n",
       "      <td>16999.0</td>\n",
       "      <td>sedan</td>\n",
       "      <td>150</td>\n",
       "      <td>3.5</td>\n",
       "      <td>Gas</td>\n",
       "      <td>yes</td>\n",
       "      <td>2008</td>\n",
       "      <td>ES 350</td>\n",
       "      <td>front</td>\n",
       "    </tr>\n",
       "    <tr>\n",
       "      <th>9575</th>\n",
       "      <td>Audi</td>\n",
       "      <td>22500.0</td>\n",
       "      <td>other</td>\n",
       "      <td>71</td>\n",
       "      <td>3.6</td>\n",
       "      <td>Petrol</td>\n",
       "      <td>yes</td>\n",
       "      <td>2007</td>\n",
       "      <td>Q7</td>\n",
       "      <td>full</td>\n",
       "    </tr>\n",
       "  </tbody>\n",
       "</table>\n",
       "<p>9215 rows × 10 columns</p>\n",
       "</div>"
      ],
      "text/plain": [
       "                car    price       body  mileage  engV engType registration  \\\n",
       "0              Ford  15500.0  crossover       68   2.5     Gas          yes   \n",
       "1     Mercedes-Benz  20500.0      sedan      173   1.8     Gas          yes   \n",
       "2     Mercedes-Benz  35000.0      other      135   5.5  Petrol          yes   \n",
       "3     Mercedes-Benz  17800.0        van      162   1.8  Diesel          yes   \n",
       "4     Mercedes-Benz  33000.0      vagon       91   2.3   Other          yes   \n",
       "...             ...      ...        ...      ...   ...     ...          ...   \n",
       "9571        Hyundai  14500.0  crossover      140   2.0     Gas          yes   \n",
       "9572     Volkswagen   2200.0      vagon      150   1.6  Petrol          yes   \n",
       "9573  Mercedes-Benz  18500.0  crossover      180   3.5  Petrol          yes   \n",
       "9574          Lexus  16999.0      sedan      150   3.5     Gas          yes   \n",
       "9575           Audi  22500.0      other       71   3.6  Petrol          yes   \n",
       "\n",
       "      year      model  drive  \n",
       "0     2010       Kuga   full  \n",
       "1     2011    E-Class   rear  \n",
       "2     2008     CL 550   rear  \n",
       "3     2012      B 180  front  \n",
       "4     2013    E-Class  front  \n",
       "...    ...        ...    ...  \n",
       "9571  2011     Tucson  front  \n",
       "9572  1986  Passat B2  front  \n",
       "9573  2008     ML 350   full  \n",
       "9574  2008     ES 350  front  \n",
       "9575  2007         Q7   full  \n",
       "\n",
       "[9215 rows x 10 columns]"
      ]
     },
     "execution_count": 51,
     "metadata": {},
     "output_type": "execute_result"
    }
   ],
   "source": [
    "## viewing all cleaned data\n",
    "carsales_data_droping"
   ]
  },
  {
   "cell_type": "code",
   "execution_count": 52,
   "id": "3b482636-bc23-4b71-a36d-88092464583f",
   "metadata": {},
   "outputs": [],
   "source": [
    "# creating a Profile report for understand data frame and gets insights.\n",
    "profile_cleaned = pandas_profiling.ProfileReport(carsales_data_droping)\n",
    "profile_cleaned"
   ]
  },
  {
   "cell_type": "code",
   "execution_count": 53,
   "id": "cb8d33af-0d67-4409-80c7-8a23ea05bf78",
   "metadata": {},
   "outputs": [],
   "source": [
    "# saving a copy of pandas profiling copy for understand it in a better way \n",
    "profile_cleaned.to_file(output_file=\"CarSales_post_preprocessing.html\")"
   ]
  },
  {
   "cell_type": "markdown",
   "id": "6293eb78-f728-4979-a00b-1cb3a9a175c0",
   "metadata": {},
   "source": [
    "4 . Questions"
   ]
  },
  {
   "cell_type": "markdown",
   "id": "2b81c4e3-6887-43e2-928e-fdf37037ff8d",
   "metadata": {},
   "source": [
    "Try to do all the questions along with the neccessary graphs and mention insights too"
   ]
  },
  {
   "cell_type": "markdown",
   "id": "7b99b038-ee59-4eed-9269-3e5cb24a4675",
   "metadata": {},
   "source": [
    "4.1 Which type of cars are sold maximum?"
   ]
  },
  {
   "cell_type": "code",
   "execution_count": 54,
   "id": "b64857cb-9437-49f1-bb34-f699cccd1040",
   "metadata": {},
   "outputs": [],
   "source": [
    "###Creating a copy of data for visualisation using matplotlib and seaborn \n",
    "carsales_ans = carsales_data_droping"
   ]
  },
  {
   "cell_type": "code",
   "execution_count": 55,
   "id": "eb061b9d-76c3-4563-b359-8ccba65be721",
   "metadata": {},
   "outputs": [
    {
     "data": {
      "text/plain": [
       "Text(0.5, 1.0, 'Count plot for car Variant.')"
      ]
     },
     "execution_count": 55,
     "metadata": {},
     "output_type": "execute_result"
    },
    {
     "data": {
      "image/png": "[encoded data removed]",
      "text/plain": [
       "<Figure size 640x480 with 1 Axes>"
      ]
     },
     "metadata": {},
     "output_type": "display_data"
    }
   ],
   "source": [
    "# This will return body type of car which is selling maximum.\n",
    "sns.countplot(x='body',data=carsales_ans).set_title('Count plot for car Variant.')"
   ]
  },
  {
   "cell_type": "markdown",
   "id": "8ca9213d-eaef-4808-b64e-d565336f3764",
   "metadata": {},
   "source": [
    "You can see sedan cars are sold maximum and followed that crossover,hatch,van,other and vagon"
   ]
  },
  {
   "cell_type": "markdown",
   "id": "bb85818a-5123-402c-abcb-055345599eb9",
   "metadata": {},
   "source": [
    "### 4.2 What is the co-relation between price and mileage?"
   ]
  },
  {
   "cell_type": "code",
   "execution_count": 56,
   "id": "e050ecc6-02b0-49dc-a251-517cb040b346",
   "metadata": {},
   "outputs": [
    {
     "data": {
      "text/plain": [
       "<AxesSubplot: xlabel='mileage', ylabel='price'>"
      ]
     },
     "execution_count": 56,
     "metadata": {},
     "output_type": "execute_result"
    },
    {
     "data": {
      "image/png": "[encoded data removed]",
      "text/plain": [
       "<Figure size 640x480 with 1 Axes>"
      ]
     },
     "metadata": {},
     "output_type": "display_data"
    }
   ],
   "source": [
    "sns.regplot(x='mileage',y= 'price',data = carsales_ans)"
   ]
  },
  {
   "cell_type": "markdown",
   "id": "4ace6688-ac62-4384-8d93-0f3d065b214e",
   "metadata": {},
   "source": [
    "You can see there are some outliers here. Excluding those,it seems that majority of car price is below 150000 and gives mileage in the range of 0 to 400."
   ]
  },
  {
   "cell_type": "markdown",
   "id": "01a68e05-be78-470a-b62a-9b9c6fbd6dd6",
   "metadata": {},
   "source": [
    "### 4.3. How many cars are registered?"
   ]
  },
  {
   "cell_type": "code",
   "execution_count": 57,
   "id": "dd83f9f2-8f77-44c3-8473-369ffd8c5aac",
   "metadata": {},
   "outputs": [
    {
     "data": {
      "text/plain": [
       "yes    8661\n",
       "no      554\n",
       "Name: registration, dtype: int64"
      ]
     },
     "execution_count": 57,
     "metadata": {},
     "output_type": "execute_result"
    }
   ],
   "source": [
    "carsales_ans['registration'].value_counts()"
   ]
  },
  {
   "cell_type": "code",
   "execution_count": 58,
   "id": "45532bc6-be2e-48b7-8dfe-a86a26a2780e",
   "metadata": {},
   "outputs": [
    {
     "ename": "TypeError",
     "evalue": "countplot() got multiple values for argument 'data'",
     "output_type": "error",
     "traceback": [
      "\u001b[0;31m---------------------------------------------------------------------------\u001b[0m",
      "\u001b[0;31mTypeError\u001b[0m                                 Traceback (most recent call last)",
      "Cell \u001b[0;32mIn [58], line 1\u001b[0m\n\u001b[0;32m----> 1\u001b[0m \u001b[43msns\u001b[49m\u001b[38;5;241;43m.\u001b[39;49m\u001b[43mcountplot\u001b[49m\u001b[43m(\u001b[49m\u001b[38;5;124;43m'\u001b[39;49m\u001b[38;5;124;43mregistration\u001b[39;49m\u001b[38;5;124;43m'\u001b[39;49m\u001b[43m,\u001b[49m\u001b[43mdata\u001b[49m\u001b[43m \u001b[49m\u001b[38;5;241;43m=\u001b[39;49m\u001b[43m \u001b[49m\u001b[43mcarsales_ans\u001b[49m\u001b[43m)\u001b[49m\u001b[38;5;241m.\u001b[39mset_title(\u001b[38;5;124m'\u001b[39m\u001b[38;5;124mCar Registration status\u001b[39m\u001b[38;5;124m'\u001b[39m)\n",
      "\u001b[0;31mTypeError\u001b[0m: countplot() got multiple values for argument 'data'"
     ]
    }
   ],
   "source": [
    "sns.countplot('registration',data = carsales_ans).set_title('Car Registration status')"
   ]
  },
  {
   "cell_type": "markdown",
   "id": "acd3d282-62a5-4257-b485-782b2f690f9f",
   "metadata": {},
   "source": [
    "4.4 Price distribution between registered and non-registered cars ."
   ]
  },
  {
   "cell_type": "code",
   "execution_count": 59,
   "id": "ebbe4132-00ce-4204-967f-4263b0734a84",
   "metadata": {},
   "outputs": [
    {
     "data": {
      "text/plain": [
       "registration  body     \n",
       "no            crossover     7951.310345\n",
       "              hatch         2563.750000\n",
       "              other         3936.687500\n",
       "              sedan         3938.627049\n",
       "              vagon         3124.428571\n",
       "              van           3488.457143\n",
       "yes           crossover    30597.282810\n",
       "              hatch         8723.459297\n",
       "              other        20329.349533\n",
       "              sedan        12826.420380\n",
       "              vagon        10279.830563\n",
       "              van          10970.113397\n",
       "Name: price, dtype: float64"
      ]
     },
     "execution_count": 59,
     "metadata": {},
     "output_type": "execute_result"
    }
   ],
   "source": [
    "carsales_ans.groupby(['registration','body'])['price'].mean()"
   ]
  },
  {
   "cell_type": "code",
   "execution_count": 60,
   "id": "627808a4-abcd-4e2d-8ab5-c12560fc32c0",
   "metadata": {},
   "outputs": [
    {
     "data": {
      "text/plain": [
       "<AxesSubplot: xlabel='registration', ylabel='price'>"
      ]
     },
     "execution_count": 60,
     "metadata": {},
     "output_type": "execute_result"
    },
    {
     "data": {
      "image/png": "[encoded data removed]",
      "text/plain": [
       "<Figure size 640x480 with 1 Axes>"
      ]
     },
     "metadata": {},
     "output_type": "display_data"
    }
   ],
   "source": [
    "sns.boxplot(x='registration',y='price',data = carsales_ans)"
   ]
  },
  {
   "cell_type": "code",
   "execution_count": 61,
   "id": "f3b28e72-1f18-4e64-ae7b-c8a869fc9d39",
   "metadata": {},
   "outputs": [
    {
     "data": {
      "text/plain": [
       "<seaborn.axisgrid.FacetGrid at 0x7f63c661b310>"
      ]
     },
     "execution_count": 61,
     "metadata": {},
     "output_type": "execute_result"
    },
    {
     "data": {
      "image/png": "[encoded data removed]",
      "text/plain": [
       "<Figure size 500x500 with 1 Axes>"
      ]
     },
     "metadata": {},
     "output_type": "display_data"
    }
   ],
   "source": [
    "sns.displot(x='registration',y='price',data = carsales_ans)"
   ]
  },
  {
   "cell_type": "markdown",
   "id": "25843e0b-1d8b-4119-b029-b8a69d28470e",
   "metadata": {},
   "source": [
    "Majority of the cars are registered and the price of those cars are below 300000. Non-registered cars are cheaper in cost."
   ]
  },
  {
   "cell_type": "markdown",
   "id": "21a40826-7eb3-4137-b832-586eeb25701a",
   "metadata": {},
   "source": [
    "4.5 What is the car price distribution based on Engine Value?"
   ]
  },
  {
   "cell_type": "code",
   "execution_count": 63,
   "id": "a5927317-be77-4e0c-aaa2-b6c30ea8d692",
   "metadata": {},
   "outputs": [
    {
     "data": {
      "text/plain": [
       "<AxesSubplot: xlabel='engV', ylabel='price'>"
      ]
     },
     "execution_count": 63,
     "metadata": {},
     "output_type": "execute_result"
    },
    {
     "data": {
      "image/png": "[encoded data removed]",
      "text/plain": [
       "<Figure size 640x480 with 1 Axes>"
      ]
     },
     "metadata": {},
     "output_type": "display_data"
    }
   ],
   "source": [
    "sns.regplot(x='engV', y = 'price',data = carsales_ans)"
   ]
  },
  {
   "cell_type": "markdown",
   "id": "34e62a78-b4b8-4424-8e4f-e8fad7d781f8",
   "metadata": {},
   "source": [
    "Except few outliers, it is clearly observed that the range of car price is between 0 to 150000 having the range of engine value between 0 to 6."
   ]
  },
  {
   "cell_type": "code",
   "execution_count": 64,
   "id": "b97a417e-bf7f-4565-bf4d-8e2ce7e6f877",
   "metadata": {},
   "outputs": [
    {
     "data": {
      "text/plain": [
       "<AxesSubplot: xlabel='engV', ylabel='price'>"
      ]
     },
     "execution_count": 64,
     "metadata": {},
     "output_type": "execute_result"
    },
    {
     "data": {
      "image/png": "[encoded data removed]",
      "text/plain": [
       "<Figure size 640x480 with 1 Axes>"
      ]
     },
     "metadata": {},
     "output_type": "display_data"
    }
   ],
   "source": [
    "sns.scatterplot(x='engV', y = 'price',data = carsales_ans ,hue ='body')"
   ]
  },
  {
   "cell_type": "markdown",
   "id": "575a99a0-85cb-4850-85a1-27f50e558bcf",
   "metadata": {},
   "source": [
    "4.6 Which engine type of cars users preferred maximum?"
   ]
  },
  {
   "cell_type": "code",
   "execution_count": 66,
   "id": "96a13121-9349-4e4c-8711-855274ecc277",
   "metadata": {},
   "outputs": [
    {
     "data": {
      "text/plain": [
       "engType\n",
       "Petrol    4259\n",
       "Diesel    2821\n",
       "Gas       1692\n",
       "Other      443\n",
       "Name: price, dtype: int64"
      ]
     },
     "execution_count": 66,
     "metadata": {},
     "output_type": "execute_result"
    }
   ],
   "source": [
    "carsales_ans.groupby('engType')['price'].count().sort_values(ascending=False)"
   ]
  },
  {
   "cell_type": "code",
   "execution_count": 71,
   "id": "318ffc46-960a-4a27-9ab8-141c4a6e0f67",
   "metadata": {},
   "outputs": [
    {
     "name": "stdout",
     "output_type": "stream",
     "text": [
      "<class 'pandas.core.frame.DataFrame'>\n",
      "Int64Index: 9215 entries, 0 to 9575\n",
      "Data columns (total 10 columns):\n",
      " #   Column        Non-Null Count  Dtype  \n",
      "---  ------        --------------  -----  \n",
      " 0   car           9215 non-null   object \n",
      " 1   price         9215 non-null   float64\n",
      " 2   body          9215 non-null   object \n",
      " 3   mileage       9215 non-null   int64  \n",
      " 4   engV          9215 non-null   float64\n",
      " 5   engType       9215 non-null   object \n",
      " 6   registration  9215 non-null   object \n",
      " 7   year          9215 non-null   int64  \n",
      " 8   model         9215 non-null   object \n",
      " 9   drive         9215 non-null   object \n",
      "dtypes: float64(2), int64(2), object(6)\n",
      "memory usage: 1.0+ MB\n"
     ]
    }
   ],
   "source": [
    "carsales_ans.info()"
   ]
  },
  {
   "cell_type": "code",
   "execution_count": 80,
   "id": "a9002623-7a2e-462d-b4f1-d25779fd33ab",
   "metadata": {},
   "outputs": [
    {
     "data": {
      "text/plain": [
       "Text(0.5, 1.0, 'Count plot for engType Variant.')"
      ]
     },
     "execution_count": 80,
     "metadata": {},
     "output_type": "execute_result"
    },
    {
     "data": {
      "image/png": "[encoded data removed]",
      "text/plain": [
       "<Figure size 640x480 with 1 Axes>"
      ]
     },
     "metadata": {},
     "output_type": "display_data"
    }
   ],
   "source": [
    "# This will return body type of car which is selling maximum.\n",
    "sns.countplot(x='engType',data=carsales_ans).set_title('Count plot for engType Variant.')"
   ]
  },
  {
   "cell_type": "markdown",
   "id": "6dbc2861-b357-4260-8915-bd161ba2faf5",
   "metadata": {},
   "source": [
    "Petrol cars are more preferred and followed by Diesel, Gas and others."
   ]
  },
  {
   "cell_type": "markdown",
   "id": "645d81bf-b937-407f-b93a-67ba379edccf",
   "metadata": {},
   "source": [
    "4.7 Establish coorelation between all the features using heatmap."
   ]
  },
  {
   "cell_type": "code",
   "execution_count": 76,
   "id": "02ef7796-b619-4f7b-9908-c96cc6a5a383",
   "metadata": {},
   "outputs": [
    {
     "name": "stderr",
     "output_type": "stream",
     "text": [
      "/tmp/ipykernel_84/1481666568.py:1: FutureWarning: The default value of numeric_only in DataFrame.corr is deprecated. In a future version, it will default to False. Select only valid columns or specify the value of numeric_only to silence this warning.\n",
      "  corr_car_sales_data = carsales_ans.corr()\n"
     ]
    },
    {
     "data": {
      "text/html": [
       "<div>\n",
       "<style scoped>\n",
       "    .dataframe tbody tr th:only-of-type {\n",
       "        vertical-align: middle;\n",
       "    }\n",
       "\n",
       "    .dataframe tbody tr th {\n",
       "        vertical-align: top;\n",
       "    }\n",
       "\n",
       "    .dataframe thead th {\n",
       "        text-align: right;\n",
       "    }\n",
       "</style>\n",
       "<table border=\"1\" class=\"dataframe\">\n",
       "  <thead>\n",
       "    <tr style=\"text-align: right;\">\n",
       "      <th></th>\n",
       "      <th>price</th>\n",
       "      <th>mileage</th>\n",
       "      <th>engV</th>\n",
       "      <th>year</th>\n",
       "    </tr>\n",
       "  </thead>\n",
       "  <tbody>\n",
       "    <tr>\n",
       "      <th>price</th>\n",
       "      <td>1.000000</td>\n",
       "      <td>-0.256693</td>\n",
       "      <td>0.051242</td>\n",
       "      <td>0.391745</td>\n",
       "    </tr>\n",
       "    <tr>\n",
       "      <th>mileage</th>\n",
       "      <td>-0.256693</td>\n",
       "      <td>1.000000</td>\n",
       "      <td>0.055425</td>\n",
       "      <td>-0.451794</td>\n",
       "    </tr>\n",
       "    <tr>\n",
       "      <th>engV</th>\n",
       "      <td>0.051242</td>\n",
       "      <td>0.055425</td>\n",
       "      <td>1.000000</td>\n",
       "      <td>-0.047734</td>\n",
       "    </tr>\n",
       "    <tr>\n",
       "      <th>year</th>\n",
       "      <td>0.391745</td>\n",
       "      <td>-0.451794</td>\n",
       "      <td>-0.047734</td>\n",
       "      <td>1.000000</td>\n",
       "    </tr>\n",
       "  </tbody>\n",
       "</table>\n",
       "</div>"
      ],
      "text/plain": [
       "            price   mileage      engV      year\n",
       "price    1.000000 -0.256693  0.051242  0.391745\n",
       "mileage -0.256693  1.000000  0.055425 -0.451794\n",
       "engV     0.051242  0.055425  1.000000 -0.047734\n",
       "year     0.391745 -0.451794 -0.047734  1.000000"
      ]
     },
     "execution_count": 76,
     "metadata": {},
     "output_type": "execute_result"
    }
   ],
   "source": [
    "# creating a copy of data frame for performing sorrelation function\n",
    "corr_car_sales_data = carsales_ans.corr()\n",
    "corr_car_sales_data"
   ]
  },
  {
   "cell_type": "code",
   "execution_count": 77,
   "id": "dfc5b3cc-6a5f-45ac-bb90-06a5c21e1207",
   "metadata": {},
   "outputs": [
    {
     "data": {
      "text/plain": [
       "Text(0.5, 1.0, 'Correlation between features')"
      ]
     },
     "execution_count": 77,
     "metadata": {},
     "output_type": "execute_result"
    },
    {
     "data": {
      "image/png": "[encoded data removed]",
      "text/plain": [
       "<Figure size 640x480 with 2 Axes>"
      ]
     },
     "metadata": {},
     "output_type": "display_data"
    }
   ],
   "source": [
    "sns.heatmap(corr_car_sales_data,vmax = 0.8 , linewidth = 0.01 ,square = True,cmap = 'YlGnBu',linecolor = 'black')\n",
    "plt.title('Correlation between features')"
   ]
  },
  {
   "cell_type": "markdown",
   "id": "4fb18f61-404d-4ce0-a6ed-572679ae9490",
   "metadata": {},
   "source": [
    "mileage and engV are negatively corelated with year.\n",
    "\n",
    "mileage is also negatively corelated with year.\n",
    "\n",
    "engV is positively coorelated with mileage and price.\n",
    "\n",
    "Positive corelation observed between year and price too."
   ]
  },
  {
   "cell_type": "markdown",
   "id": "ef796bd0-8e03-43ac-b933-28842d0c3bd6",
   "metadata": {},
   "source": [
    "4.8 Distribution of price."
   ]
  },
  {
   "cell_type": "code",
   "execution_count": 79,
   "id": "b2412aba-6ff7-4f77-97de-8746e7e7152c",
   "metadata": {},
   "outputs": [
    {
     "name": "stderr",
     "output_type": "stream",
     "text": [
      "/tmp/ipykernel_84/963584368.py:1: UserWarning: \n",
      "\n",
      "`distplot` is a deprecated function and will be removed in seaborn v0.14.0.\n",
      "\n",
      "Please adapt your code to use either `displot` (a figure-level function with\n",
      "similar flexibility) or `histplot` (an axes-level function for histograms).\n",
      "\n",
      "For a guide to updating your code to use the new functions, please see\n",
      "https://gist.github.com/mwaskom/de44147ed2974457ad6372750bbe5751\n",
      "\n",
      "  sns.distplot(carsales_ans['price'], color='g', kde=False)\n"
     ]
    },
    {
     "data": {
      "text/plain": [
       "<AxesSubplot: xlabel='price'>"
      ]
     },
     "execution_count": 79,
     "metadata": {},
     "output_type": "execute_result"
    },
    {
     "data": {
      "image/png": "[encoded data removed]",
      "text/plain": [
       "<Figure size 640x480 with 1 Axes>"
      ]
     },
     "metadata": {},
     "output_type": "display_data"
    }
   ],
   "source": [
    "sns.distplot(carsales_ans['price'], color='g', kde=False)"
   ]
  },
  {
   "cell_type": "code",
   "execution_count": 78,
   "id": "6144d81d-956e-4bb1-872f-c15c75c5d558",
   "metadata": {},
   "outputs": [
    {
     "name": "stderr",
     "output_type": "stream",
     "text": [
      "/tmp/ipykernel_84/2775759118.py:1: UserWarning: \n",
      "\n",
      "`distplot` is a deprecated function and will be removed in seaborn v0.14.0.\n",
      "\n",
      "Please adapt your code to use either `displot` (a figure-level function with\n",
      "similar flexibility) or `histplot` (an axes-level function for histograms).\n",
      "\n",
      "For a guide to updating your code to use the new functions, please see\n",
      "https://gist.github.com/mwaskom/de44147ed2974457ad6372750bbe5751\n",
      "\n",
      "  sns.distplot(carsales_ans['price'],color = 'g')\n"
     ]
    },
    {
     "data": {
      "image/png": "[encoded data removed]",
      "text/plain": [
       "<Figure size 640x480 with 1 Axes>"
      ]
     },
     "metadata": {},
     "output_type": "display_data"
    }
   ],
   "source": [
    "sns.distplot(carsales_ans['price'],color = 'g')\n",
    "plt.title(\"Price Distribution\")\n",
    "plt.show()"
   ]
  },
  {
   "cell_type": "code",
   "execution_count": 76,
   "id": "6dc96064-c5e5-4755-9693-80a2708bd9a7",
   "metadata": {},
   "outputs": [
    {
     "data": {
      "text/plain": [
       "<seaborn.axisgrid.FacetGrid at 0x7fcf4c1b3a90>"
      ]
     },
     "execution_count": 76,
     "metadata": {},
     "output_type": "execute_result"
    },
    {
     "data": {
      "image/png": "[encoded data removed]",
      "text/plain": [
       "<Figure size 500x500 with 1 Axes>"
      ]
     },
     "metadata": {},
     "output_type": "display_data"
    }
   ],
   "source": [
    "sns.displot(data= carsales_ans['price'])"
   ]
  },
  {
   "cell_type": "code",
   "execution_count": 84,
   "id": "fd5049d0-25e7-4bfe-ab19-61d13ac09e37",
   "metadata": {},
   "outputs": [
    {
     "data": {
      "text/plain": [
       "Text(0.5, 1.0, 'Count plot for car Variant.')"
      ]
     },
     "execution_count": 84,
     "metadata": {},
     "output_type": "execute_result"
    },
    {
     "data": {
      "image/png": "[encoded data removed]",
      "text/plain": [
       "<Figure size 640x480 with 1 Axes>"
      ]
     },
     "metadata": {},
     "output_type": "display_data"
    }
   ],
   "source": [
    "sns.countplot(x='car',data=carsales_ans).set_title('Count plot for car Variant.')"
   ]
  },
  {
   "cell_type": "code",
   "execution_count": 110,
   "id": "cfde2fc8-5a9f-43dc-a53d-7f689162b518",
   "metadata": {},
   "outputs": [
    {
     "data": {
      "image/png": "[encoded data removed]",
      "text/plain": [
       "<Figure size 640x480 with 1 Axes>"
      ]
     },
     "metadata": {},
     "output_type": "display_data"
    }
   ],
   "source": [
    "plt.hist(carsales_ans[\"price\"],log='car',color='green')\n",
    "plt.show()"
   ]
  },
  {
   "cell_type": "markdown",
   "id": "0b2d964b-dffe-4dd8-96e3-71f92c7e00d0",
   "metadata": {},
   "source": [
    "4.4 Price distribution between registered and non_registered cars."
   ]
  },
  {
   "cell_type": "code",
   "execution_count": null,
   "id": "9c6ab616-47a0-49d7-9bbc-a4fac4bf2962",
   "metadata": {},
   "outputs": [
    {
     "data": {
      "text/html": [
       "<div>\n",
       "<style scoped>\n",
       "    .dataframe tbody tr th:only-of-type {\n",
       "        vertical-align: middle;\n",
       "    }\n",
       "\n",
       "    .dataframe tbody tr th {\n",
       "        vertical-align: top;\n",
       "    }\n",
       "\n",
       "    .dataframe thead th {\n",
       "        text-align: right;\n",
       "    }\n",
       "</style>\n",
       "<table border=\"1\" class=\"dataframe\">\n",
       "  <thead>\n",
       "    <tr style=\"text-align: right;\">\n",
       "      <th>registration</th>\n",
       "      <th>no</th>\n",
       "      <th>yes</th>\n",
       "    </tr>\n",
       "    <tr>\n",
       "      <th>body</th>\n",
       "      <th></th>\n",
       "      <th></th>\n",
       "    </tr>\n",
       "  </thead>\n",
       "  <tbody>\n",
       "    <tr>\n",
       "      <th>crossover</th>\n",
       "      <td>7951.310345</td>\n",
       "      <td>30597.282810</td>\n",
       "    </tr>\n",
       "    <tr>\n",
       "      <th>hatch</th>\n",
       "      <td>2563.750000</td>\n",
       "      <td>8723.459297</td>\n",
       "    </tr>\n",
       "    <tr>\n",
       "      <th>other</th>\n",
       "      <td>3936.687500</td>\n",
       "      <td>20329.349533</td>\n",
       "    </tr>\n",
       "    <tr>\n",
       "      <th>sedan</th>\n",
       "      <td>3938.627049</td>\n",
       "      <td>12826.420380</td>\n",
       "    </tr>\n",
       "    <tr>\n",
       "      <th>vagon</th>\n",
       "      <td>3124.428571</td>\n",
       "      <td>10279.830563</td>\n",
       "    </tr>\n",
       "    <tr>\n",
       "      <th>van</th>\n",
       "      <td>3488.457143</td>\n",
       "      <td>10970.113397</td>\n",
       "    </tr>\n",
       "  </tbody>\n",
       "</table>\n",
       "</div>"
      ],
      "text/plain": [
       "registration           no           yes\n",
       "body                                   \n",
       "crossover     7951.310345  30597.282810\n",
       "hatch         2563.750000   8723.459297\n",
       "other         3936.687500  20329.349533\n",
       "sedan         3938.627049  12826.420380\n",
       "vagon         3124.428571  10279.830563\n",
       "van           3488.457143  10970.113397"
      ]
     },
     "execution_count": 85,
     "metadata": {},
     "output_type": "execute_result"
    }
   ],
   "source": [
    "pd.pivot_table(\n",
    "    carsales_ans,\n",
    "    index = 'body',\n",
    "    columns = 'registration',\n",
    "    values = 'price',\n",
    "    aggfunc = np.mean\n",
    ")  "
   ]
  },
  {
   "cell_type": "code",
   "execution_count": 67,
   "id": "a6979d8e-6713-42d1-bda1-6c772732a8a5",
   "metadata": {},
   "outputs": [
    {
     "data": {
      "text/plain": [
       "<AxesSubplot: xlabel='body', ylabel='price'>"
      ]
     },
     "execution_count": 67,
     "metadata": {},
     "output_type": "execute_result"
    },
    {
     "data": {
      "image/png": "[encoded data removed]",
      "text/plain": [
       "<Figure size 2000x1000 with 1 Axes>"
      ]
     },
     "metadata": {},
     "output_type": "display_data"
    }
   ],
   "source": [
    "plt.figure(figsize = (20,10))\n",
    "sns.boxplot(data = carsales_ans, y='price', x = 'body',palette = 'Set1', hue = 'registration')"
   ]
  },
  {
   "cell_type": "markdown",
   "id": "4c94952e-8e43-4477-bb43-97e22c97eb07",
   "metadata": {},
   "source": [
    "Conclusion:\n",
    "\n",
    "Sedan cars sold maximum.\n",
    "\n",
    "Price is increasing as the engine value is increasing.\n",
    "\n",
    "The price and mileage goes down as engine values decreasing.\n",
    "\n",
    "Petrol cars are more preferred and followed by Diesel, Gas and others.\n",
    "\n",
    "Majority of the cars are registered and the price of those cars are below 300000. Non-registered cars are cheaper in cost."
   ]
  },
  {
   "cell_type": "code",
   "execution_count": null,
   "id": "31b07857-025f-4b7a-8dfb-6d7acad87edd",
   "metadata": {},
   "outputs": [],
   "source": []
  }
 ],
 "metadata": {
  "kernelspec": {
   "display_name": "Python 3 (ipykernel)",
   "language": "python",
   "name": "python3"
  },
  "language_info": {
   "codemirror_mode": {
    "name": "ipython",
    "version": 3
   },
   "file_extension": ".py",
   "mimetype": "text/x-python",
   "name": "python",
   "nbconvert_exporter": "python",
   "pygments_lexer": "ipython3",
   "version": "3.10.6"
  }
 },
 "nbformat": 4,
 "nbformat_minor": 5
}
